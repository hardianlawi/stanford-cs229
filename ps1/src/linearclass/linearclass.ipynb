{
 "cells": [
  {
   "cell_type": "code",
   "execution_count": 1,
   "metadata": {
    "ExecuteTime": {
     "end_time": "2020-09-08T15:31:44.671441Z",
     "start_time": "2020-09-08T15:31:44.553816Z"
    }
   },
   "outputs": [
    {
     "data": {
      "application/javascript": [
       "\n",
       "            setTimeout(function() {\n",
       "                var nbb_cell_id = 1;\n",
       "                var nbb_unformatted_code = \"%load_ext nb_black\\n%load_ext autoreload\\n%autoreload 2\";\n",
       "                var nbb_formatted_code = \"%load_ext nb_black\\n%load_ext autoreload\\n%autoreload 2\";\n",
       "                var nbb_cells = Jupyter.notebook.get_cells();\n",
       "                for (var i = 0; i < nbb_cells.length; ++i) {\n",
       "                    if (nbb_cells[i].input_prompt_number == nbb_cell_id) {\n",
       "                        if (nbb_cells[i].get_text() == nbb_unformatted_code) {\n",
       "                             nbb_cells[i].set_text(nbb_formatted_code);\n",
       "                        }\n",
       "                        break;\n",
       "                    }\n",
       "                }\n",
       "            }, 500);\n",
       "            "
      ],
      "text/plain": [
       "<IPython.core.display.Javascript object>"
      ]
     },
     "metadata": {},
     "output_type": "display_data"
    }
   ],
   "source": [
    "%load_ext nb_black\n",
    "%load_ext autoreload\n",
    "%autoreload 2"
   ]
  },
  {
   "cell_type": "code",
   "execution_count": 2,
   "metadata": {
    "ExecuteTime": {
     "end_time": "2020-09-08T15:31:44.927088Z",
     "start_time": "2020-09-08T15:31:44.673101Z"
    }
   },
   "outputs": [
    {
     "data": {
      "application/javascript": [
       "\n",
       "            setTimeout(function() {\n",
       "                var nbb_cell_id = 2;\n",
       "                var nbb_unformatted_code = \"import numpy as np\\nimport util\\n\\nfrom os.path import basename\\nfrom logreg import LogisticRegression\\nfrom gda import GDA\";\n",
       "                var nbb_formatted_code = \"import numpy as np\\nimport util\\n\\nfrom os.path import basename\\nfrom logreg import LogisticRegression\\nfrom gda import GDA\";\n",
       "                var nbb_cells = Jupyter.notebook.get_cells();\n",
       "                for (var i = 0; i < nbb_cells.length; ++i) {\n",
       "                    if (nbb_cells[i].input_prompt_number == nbb_cell_id) {\n",
       "                        if (nbb_cells[i].get_text() == nbb_unformatted_code) {\n",
       "                             nbb_cells[i].set_text(nbb_formatted_code);\n",
       "                        }\n",
       "                        break;\n",
       "                    }\n",
       "                }\n",
       "            }, 500);\n",
       "            "
      ],
      "text/plain": [
       "<IPython.core.display.Javascript object>"
      ]
     },
     "metadata": {},
     "output_type": "display_data"
    }
   ],
   "source": [
    "import numpy as np\n",
    "import util\n",
    "\n",
    "from logreg import LogisticRegression\n",
    "from gda import GDA"
   ]
  },
  {
   "cell_type": "markdown",
   "metadata": {},
   "source": [
    "# Dataset 1"
   ]
  },
  {
   "cell_type": "code",
   "execution_count": 3,
   "metadata": {
    "ExecuteTime": {
     "end_time": "2020-09-08T15:31:44.943269Z",
     "start_time": "2020-09-08T15:31:44.929083Z"
    }
   },
   "outputs": [
    {
     "data": {
      "application/javascript": [
       "\n",
       "            setTimeout(function() {\n",
       "                var nbb_cell_id = 3;\n",
       "                var nbb_unformatted_code = \"train_path = \\\"ds1_train.csv\\\"\\nvalid_path = \\\"ds1_valid.csv\\\"\";\n",
       "                var nbb_formatted_code = \"train_path = \\\"ds1_train.csv\\\"\\nvalid_path = \\\"ds1_valid.csv\\\"\";\n",
       "                var nbb_cells = Jupyter.notebook.get_cells();\n",
       "                for (var i = 0; i < nbb_cells.length; ++i) {\n",
       "                    if (nbb_cells[i].input_prompt_number == nbb_cell_id) {\n",
       "                        if (nbb_cells[i].get_text() == nbb_unformatted_code) {\n",
       "                             nbb_cells[i].set_text(nbb_formatted_code);\n",
       "                        }\n",
       "                        break;\n",
       "                    }\n",
       "                }\n",
       "            }, 500);\n",
       "            "
      ],
      "text/plain": [
       "<IPython.core.display.Javascript object>"
      ]
     },
     "metadata": {},
     "output_type": "display_data"
    }
   ],
   "source": [
    "train_path = \"ds1_train.csv\"\n",
    "valid_path = \"ds1_valid.csv\""
   ]
  },
  {
   "cell_type": "markdown",
   "metadata": {},
   "source": [
    "## Logistic Regression"
   ]
  },
  {
   "cell_type": "code",
   "execution_count": 4,
   "metadata": {
    "ExecuteTime": {
     "end_time": "2020-09-08T15:31:45.124932Z",
     "start_time": "2020-09-08T15:31:44.944973Z"
    }
   },
   "outputs": [
    {
     "name": "stdout",
     "output_type": "stream",
     "text": [
      "Initial loss: 0.6931\n",
      "Loss step 0 : 0.6931\n",
      "LogReg acc: 0.81\n",
      "LogReg log loss: 0.693142703498164\n"
     ]
    },
    {
     "data": {
      "image/png": "[encoded data removed]",
      "text/plain": [
       "<Figure size 432x288 with 1 Axes>"
      ]
     },
     "metadata": {
      "needs_background": "light"
     },
     "output_type": "display_data"
    },
    {
     "data": {
      "application/javascript": [
       "\n",
       "            setTimeout(function() {\n",
       "                var nbb_cell_id = 4;\n",
       "                var nbb_unformatted_code = \"save_path = \\\"logreg_pred_1.txt\\\"\\nx_train, y_train = util.load_dataset(train_path, add_intercept=True)\\n\\n# *** START CODE HERE ***\\n# Train a logistic regression classifier\\n# Plot decision boundary on top of validation set\\n# Use np.savetxt to save predictions on eval set to save_path\\n\\nmodel = LogisticRegression()\\nmodel.fit(x_train, y_train)\\n\\nx_val, y_val = util.load_dataset(valid_path, add_intercept=True)\\nutil.plot(x_val, y_val, model.theta, save_path=save_path.replace(\\\".txt\\\", \\\".png\\\"))\\n\\nyhat = model.predict(x_val)\\nnp.savetxt(save_path, yhat)\\n\\nprint(f\\\"LogReg acc: {util.compute_accuracy(y_val, yhat)}\\\")\\nprint(f\\\"LogReg log loss: {util.compute_log_loss(y_val, yhat)}\\\")\\n\\n# *** END CODE HERE ***\";\n",
       "                var nbb_formatted_code = \"save_path = \\\"logreg_pred_1.txt\\\"\\nx_train, y_train = util.load_dataset(train_path, add_intercept=True)\\n\\n# *** START CODE HERE ***\\n# Train a logistic regression classifier\\n# Plot decision boundary on top of validation set\\n# Use np.savetxt to save predictions on eval set to save_path\\n\\nmodel = LogisticRegression()\\nmodel.fit(x_train, y_train)\\n\\nx_val, y_val = util.load_dataset(valid_path, add_intercept=True)\\nutil.plot(x_val, y_val, model.theta, save_path=save_path.replace(\\\".txt\\\", \\\".png\\\"))\\n\\nyhat = model.predict(x_val)\\nnp.savetxt(save_path, yhat)\\n\\nprint(f\\\"LogReg acc: {util.compute_accuracy(y_val, yhat)}\\\")\\nprint(f\\\"LogReg log loss: {util.compute_log_loss(y_val, yhat)}\\\")\\n\\n# *** END CODE HERE ***\";\n",
       "                var nbb_cells = Jupyter.notebook.get_cells();\n",
       "                for (var i = 0; i < nbb_cells.length; ++i) {\n",
       "                    if (nbb_cells[i].input_prompt_number == nbb_cell_id) {\n",
       "                        if (nbb_cells[i].get_text() == nbb_unformatted_code) {\n",
       "                             nbb_cells[i].set_text(nbb_formatted_code);\n",
       "                        }\n",
       "                        break;\n",
       "                    }\n",
       "                }\n",
       "            }, 500);\n",
       "            "
      ],
      "text/plain": [
       "<IPython.core.display.Javascript object>"
      ]
     },
     "metadata": {},
     "output_type": "display_data"
    }
   ],
   "source": [
    "save_path = \"logreg_pred_1.txt\"\n",
    "x_train, y_train = util.load_dataset(train_path, add_intercept=True)\n",
    "\n",
    "# *** START CODE HERE ***\n",
    "# Train a logistic regression classifier\n",
    "# Plot decision boundary on top of validation set\n",
    "# Use np.savetxt to save predictions on eval set to save_path\n",
    "\n",
    "model = LogisticRegression()\n",
    "model.fit(x_train, y_train)\n",
    "\n",
    "x_val, y_val = util.load_dataset(valid_path, add_intercept=True)\n",
    "util.plot(x_val, y_val, model.theta, save_path=save_path.replace(\".txt\", \".png\"))\n",
    "\n",
    "yhat = model.predict(x_val)\n",
    "np.savetxt(save_path, yhat)\n",
    "\n",
    "print(f\"LogReg acc: {util.compute_accuracy(y_val, yhat)}\")\n",
    "print(f\"LogReg log loss: {util.compute_log_loss(y_val, yhat)}\")\n",
    "\n",
    "# *** END CODE HERE ***\n"
   ]
  },
  {
   "cell_type": "markdown",
   "metadata": {},
   "source": [
    "## GDA"
   ]
  },
  {
   "cell_type": "code",
   "execution_count": 5,
   "metadata": {
    "ExecuteTime": {
     "end_time": "2020-09-08T15:31:45.288690Z",
     "start_time": "2020-09-08T15:31:45.126798Z"
    }
   },
   "outputs": [
    {
     "name": "stdout",
     "output_type": "stream",
     "text": [
      "GDA acc: 0.81\n",
      "GDA log loss: 0.46534103938686855\n"
     ]
    },
    {
     "data": {
      "image/png": "[encoded data removed]",
      "text/plain": [
       "<Figure size 432x288 with 1 Axes>"
      ]
     },
     "metadata": {
      "needs_background": "light"
     },
     "output_type": "display_data"
    },
    {
     "data": {
      "application/javascript": [
       "\n",
       "            setTimeout(function() {\n",
       "                var nbb_cell_id = 5;\n",
       "                var nbb_unformatted_code = \"save_path = \\\"gda_pred_1.txt\\\"\\n\\n# Load dataset\\nx_train, y_train = util.load_dataset(train_path, add_intercept=False)\\n\\n# *** START CODE HERE ***\\n# Train a GDA classifier\\n# Plot decision boundary on validation set\\n# Use np.savetxt to save outputs from validation set to save_path\\n\\nmodel = GDA()\\nmodel.fit(x_train, y_train)\\n\\nx_val, y_val = util.load_dataset(valid_path, add_intercept=False)\\nutil.plot(x_val, y_val, model.theta, save_path=save_path.replace(\\\".txt\\\", \\\".png\\\"))\\n\\nyhat = model.predict(x_val)\\nnp.savetxt(save_path, yhat)\\n\\nprint(f\\\"GDA acc: {util.compute_accuracy(y_val, yhat)}\\\")\\nprint(f\\\"GDA log loss: {util.compute_log_loss(y_val, yhat)}\\\")\\n# *** END CODE HERE ***\";\n",
       "                var nbb_formatted_code = \"save_path = \\\"gda_pred_1.txt\\\"\\n\\n# Load dataset\\nx_train, y_train = util.load_dataset(train_path, add_intercept=False)\\n\\n# *** START CODE HERE ***\\n# Train a GDA classifier\\n# Plot decision boundary on validation set\\n# Use np.savetxt to save outputs from validation set to save_path\\n\\nmodel = GDA()\\nmodel.fit(x_train, y_train)\\n\\nx_val, y_val = util.load_dataset(valid_path, add_intercept=False)\\nutil.plot(x_val, y_val, model.theta, save_path=save_path.replace(\\\".txt\\\", \\\".png\\\"))\\n\\nyhat = model.predict(x_val)\\nnp.savetxt(save_path, yhat)\\n\\nprint(f\\\"GDA acc: {util.compute_accuracy(y_val, yhat)}\\\")\\nprint(f\\\"GDA log loss: {util.compute_log_loss(y_val, yhat)}\\\")\\n# *** END CODE HERE ***\";\n",
       "                var nbb_cells = Jupyter.notebook.get_cells();\n",
       "                for (var i = 0; i < nbb_cells.length; ++i) {\n",
       "                    if (nbb_cells[i].input_prompt_number == nbb_cell_id) {\n",
       "                        if (nbb_cells[i].get_text() == nbb_unformatted_code) {\n",
       "                             nbb_cells[i].set_text(nbb_formatted_code);\n",
       "                        }\n",
       "                        break;\n",
       "                    }\n",
       "                }\n",
       "            }, 500);\n",
       "            "
      ],
      "text/plain": [
       "<IPython.core.display.Javascript object>"
      ]
     },
     "metadata": {},
     "output_type": "display_data"
    }
   ],
   "source": [
    "save_path = \"gda_pred_1.txt\"\n",
    "\n",
    "# Load dataset\n",
    "x_train, y_train = util.load_dataset(train_path, add_intercept=False)\n",
    "\n",
    "# *** START CODE HERE ***\n",
    "# Train a GDA classifier\n",
    "# Plot decision boundary on validation set\n",
    "# Use np.savetxt to save outputs from validation set to save_path\n",
    "\n",
    "model = GDA()\n",
    "model.fit(x_train, y_train)\n",
    "\n",
    "x_val, y_val = util.load_dataset(valid_path, add_intercept=False)\n",
    "util.plot(x_val, y_val, model.theta, save_path=save_path.replace(\".txt\", \".png\"))\n",
    "\n",
    "yhat = model.predict(x_val)\n",
    "np.savetxt(save_path, yhat)\n",
    "\n",
    "print(f\"GDA acc: {util.compute_accuracy(y_val, yhat)}\")\n",
    "print(f\"GDA log loss: {util.compute_log_loss(y_val, yhat)}\")\n",
    "# *** END CODE HERE ***"
   ]
  },
  {
   "cell_type": "markdown",
   "metadata": {},
   "source": [
    "# Dataset 2"
   ]
  },
  {
   "cell_type": "code",
   "execution_count": 6,
   "metadata": {
    "ExecuteTime": {
     "end_time": "2020-09-08T15:31:45.304545Z",
     "start_time": "2020-09-08T15:31:45.290316Z"
    }
   },
   "outputs": [
    {
     "data": {
      "application/javascript": [
       "\n",
       "            setTimeout(function() {\n",
       "                var nbb_cell_id = 6;\n",
       "                var nbb_unformatted_code = \"train_path = \\\"ds2_train.csv\\\"\\nvalid_path = \\\"ds2_valid.csv\\\"\";\n",
       "                var nbb_formatted_code = \"train_path = \\\"ds2_train.csv\\\"\\nvalid_path = \\\"ds2_valid.csv\\\"\";\n",
       "                var nbb_cells = Jupyter.notebook.get_cells();\n",
       "                for (var i = 0; i < nbb_cells.length; ++i) {\n",
       "                    if (nbb_cells[i].input_prompt_number == nbb_cell_id) {\n",
       "                        if (nbb_cells[i].get_text() == nbb_unformatted_code) {\n",
       "                             nbb_cells[i].set_text(nbb_formatted_code);\n",
       "                        }\n",
       "                        break;\n",
       "                    }\n",
       "                }\n",
       "            }, 500);\n",
       "            "
      ],
      "text/plain": [
       "<IPython.core.display.Javascript object>"
      ]
     },
     "metadata": {},
     "output_type": "display_data"
    }
   ],
   "source": [
    "train_path = \"ds2_train.csv\"\n",
    "valid_path = \"ds2_valid.csv\""
   ]
  },
  {
   "cell_type": "markdown",
   "metadata": {},
   "source": [
    "## Logistic Regression"
   ]
  },
  {
   "cell_type": "code",
   "execution_count": 7,
   "metadata": {
    "ExecuteTime": {
     "end_time": "2020-09-08T15:31:45.475724Z",
     "start_time": "2020-09-08T15:31:45.306091Z"
    }
   },
   "outputs": [
    {
     "name": "stdout",
     "output_type": "stream",
     "text": [
      "Initial loss: 0.6931\n",
      "Loss step 0 : 0.6931\n",
      "LogReg acc: 0.86\n",
      "LogReg log loss: 0.6931413920796946\n"
     ]
    },
    {
     "data": {
      "image/png": "[encoded data removed]",
      "text/plain": [
       "<Figure size 432x288 with 1 Axes>"
      ]
     },
     "metadata": {
      "needs_background": "light"
     },
     "output_type": "display_data"
    },
    {
     "data": {
      "application/javascript": [
       "\n",
       "            setTimeout(function() {\n",
       "                var nbb_cell_id = 7;\n",
       "                var nbb_unformatted_code = \"save_path = \\\"logreg_pred_2.txt\\\"\\nx_train, y_train = util.load_dataset(train_path, add_intercept=True)\\n\\n# *** START CODE HERE ***\\n# Train a logistic regression classifier\\n# Plot decision boundary on top of validation set\\n# Use np.savetxt to save predictions on eval set to save_path\\n\\nmodel = LogisticRegression()\\nmodel.fit(x_train, y_train)\\n\\nx_val, y_val = util.load_dataset(valid_path, add_intercept=True)\\nutil.plot(x_val, y_val, model.theta, save_path=save_path.replace(\\\".txt\\\", \\\".png\\\"))\\n\\nyhat = model.predict(x_val)\\nnp.savetxt(save_path, yhat)\\n\\nprint(f\\\"LogReg acc: {util.compute_accuracy(y_val, yhat)}\\\")\\nprint(f\\\"LogReg log loss: {util.compute_log_loss(y_val, yhat)}\\\")\\n\\n# *** END CODE HERE ***\";\n",
       "                var nbb_formatted_code = \"save_path = \\\"logreg_pred_2.txt\\\"\\nx_train, y_train = util.load_dataset(train_path, add_intercept=True)\\n\\n# *** START CODE HERE ***\\n# Train a logistic regression classifier\\n# Plot decision boundary on top of validation set\\n# Use np.savetxt to save predictions on eval set to save_path\\n\\nmodel = LogisticRegression()\\nmodel.fit(x_train, y_train)\\n\\nx_val, y_val = util.load_dataset(valid_path, add_intercept=True)\\nutil.plot(x_val, y_val, model.theta, save_path=save_path.replace(\\\".txt\\\", \\\".png\\\"))\\n\\nyhat = model.predict(x_val)\\nnp.savetxt(save_path, yhat)\\n\\nprint(f\\\"LogReg acc: {util.compute_accuracy(y_val, yhat)}\\\")\\nprint(f\\\"LogReg log loss: {util.compute_log_loss(y_val, yhat)}\\\")\\n\\n# *** END CODE HERE ***\";\n",
       "                var nbb_cells = Jupyter.notebook.get_cells();\n",
       "                for (var i = 0; i < nbb_cells.length; ++i) {\n",
       "                    if (nbb_cells[i].input_prompt_number == nbb_cell_id) {\n",
       "                        if (nbb_cells[i].get_text() == nbb_unformatted_code) {\n",
       "                             nbb_cells[i].set_text(nbb_formatted_code);\n",
       "                        }\n",
       "                        break;\n",
       "                    }\n",
       "                }\n",
       "            }, 500);\n",
       "            "
      ],
      "text/plain": [
       "<IPython.core.display.Javascript object>"
      ]
     },
     "metadata": {},
     "output_type": "display_data"
    }
   ],
   "source": [
    "save_path = \"logreg_pred_2.txt\"\n",
    "x_train, y_train = util.load_dataset(train_path, add_intercept=True)\n",
    "\n",
    "# *** START CODE HERE ***\n",
    "# Train a logistic regression classifier\n",
    "# Plot decision boundary on top of validation set\n",
    "# Use np.savetxt to save predictions on eval set to save_path\n",
    "\n",
    "model = LogisticRegression()\n",
    "model.fit(x_train, y_train)\n",
    "\n",
    "x_val, y_val = util.load_dataset(valid_path, add_intercept=True)\n",
    "util.plot(x_val, y_val, model.theta, save_path=save_path.replace(\".txt\", \".png\"))\n",
    "\n",
    "yhat = model.predict(x_val)\n",
    "np.savetxt(save_path, yhat)\n",
    "\n",
    "print(f\"LogReg acc: {util.compute_accuracy(y_val, yhat)}\")\n",
    "print(f\"LogReg log loss: {util.compute_log_loss(y_val, yhat)}\")\n",
    "\n",
    "# *** END CODE HERE ***\n"
   ]
  },
  {
   "cell_type": "markdown",
   "metadata": {},
   "source": [
    "## GDA"
   ]
  },
  {
   "cell_type": "code",
   "execution_count": 8,
   "metadata": {
    "ExecuteTime": {
     "end_time": "2020-09-08T15:31:45.638303Z",
     "start_time": "2020-09-08T15:31:45.477882Z"
    }
   },
   "outputs": [
    {
     "name": "stdout",
     "output_type": "stream",
     "text": [
      "GDA acc: 0.86\n",
      "GDA log loss: 0.3733052887664787\n"
     ]
    },
    {
     "data": {
      "image/png": "[encoded data removed]",
      "text/plain": [
       "<Figure size 432x288 with 1 Axes>"
      ]
     },
     "metadata": {
      "needs_background": "light"
     },
     "output_type": "display_data"
    },
    {
     "data": {
      "application/javascript": [
       "\n",
       "            setTimeout(function() {\n",
       "                var nbb_cell_id = 8;\n",
       "                var nbb_unformatted_code = \"save_path = \\\"gda_pred_2.txt\\\"\\n\\n# Load dataset\\nx_train, y_train = util.load_dataset(train_path, add_intercept=False)\\n\\n# *** START CODE HERE ***\\n# Train a GDA classifier\\n# Plot decision boundary on validation set\\n# Use np.savetxt to save outputs from validation set to save_path\\n\\nmodel = GDA()\\nmodel.fit(x_train, y_train)\\n\\nx_val, y_val = util.load_dataset(valid_path, add_intercept=False)\\nutil.plot(x_val, y_val, model.theta, save_path=save_path.replace(\\\".txt\\\", \\\".png\\\"))\\n\\nyhat = model.predict(x_val)\\nnp.savetxt(save_path, yhat)\\n\\nprint(f\\\"GDA acc: {util.compute_accuracy(y_val, yhat)}\\\")\\nprint(f\\\"GDA log loss: {util.compute_log_loss(y_val, yhat)}\\\")\\n# *** END CODE HERE ***\";\n",
       "                var nbb_formatted_code = \"save_path = \\\"gda_pred_2.txt\\\"\\n\\n# Load dataset\\nx_train, y_train = util.load_dataset(train_path, add_intercept=False)\\n\\n# *** START CODE HERE ***\\n# Train a GDA classifier\\n# Plot decision boundary on validation set\\n# Use np.savetxt to save outputs from validation set to save_path\\n\\nmodel = GDA()\\nmodel.fit(x_train, y_train)\\n\\nx_val, y_val = util.load_dataset(valid_path, add_intercept=False)\\nutil.plot(x_val, y_val, model.theta, save_path=save_path.replace(\\\".txt\\\", \\\".png\\\"))\\n\\nyhat = model.predict(x_val)\\nnp.savetxt(save_path, yhat)\\n\\nprint(f\\\"GDA acc: {util.compute_accuracy(y_val, yhat)}\\\")\\nprint(f\\\"GDA log loss: {util.compute_log_loss(y_val, yhat)}\\\")\\n# *** END CODE HERE ***\";\n",
       "                var nbb_cells = Jupyter.notebook.get_cells();\n",
       "                for (var i = 0; i < nbb_cells.length; ++i) {\n",
       "                    if (nbb_cells[i].input_prompt_number == nbb_cell_id) {\n",
       "                        if (nbb_cells[i].get_text() == nbb_unformatted_code) {\n",
       "                             nbb_cells[i].set_text(nbb_formatted_code);\n",
       "                        }\n",
       "                        break;\n",
       "                    }\n",
       "                }\n",
       "            }, 500);\n",
       "            "
      ],
      "text/plain": [
       "<IPython.core.display.Javascript object>"
      ]
     },
     "metadata": {},
     "output_type": "display_data"
    }
   ],
   "source": [
    "save_path = \"gda_pred_2.txt\"\n",
    "\n",
    "# Load dataset\n",
    "x_train, y_train = util.load_dataset(train_path, add_intercept=False)\n",
    "\n",
    "# *** START CODE HERE ***\n",
    "# Train a GDA classifier\n",
    "# Plot decision boundary on validation set\n",
    "# Use np.savetxt to save outputs from validation set to save_path\n",
    "\n",
    "model = GDA()\n",
    "model.fit(x_train, y_train)\n",
    "\n",
    "x_val, y_val = util.load_dataset(valid_path, add_intercept=False)\n",
    "util.plot(x_val, y_val, model.theta, save_path=save_path.replace(\".txt\", \".png\"))\n",
    "\n",
    "yhat = model.predict(x_val)\n",
    "np.savetxt(save_path, yhat)\n",
    "\n",
    "print(f\"GDA acc: {util.compute_accuracy(y_val, yhat)}\")\n",
    "print(f\"GDA log loss: {util.compute_log_loss(y_val, yhat)}\")\n",
    "# *** END CODE HERE ***"
   ]
  }
 ],
 "metadata": {
  "kernelspec": {
   "display_name": "cs229-ps1",
   "language": "python",
   "name": "cs229-ps1"
  },
  "language_info": {
   "codemirror_mode": {
    "name": "ipython",
    "version": 3
   },
   "file_extension": ".py",
   "mimetype": "text/x-python",
   "name": "python",
   "nbconvert_exporter": "python",
   "pygments_lexer": "ipython3",
   "version": "3.6.6"
  },
  "toc": {
   "base_numbering": 1,
   "nav_menu": {},
   "number_sections": true,
   "sideBar": true,
   "skip_h1_title": false,
   "title_cell": "Table of Contents",
   "title_sidebar": "Contents",
   "toc_cell": false,
   "toc_position": {},
   "toc_section_display": true,
   "toc_window_display": false
  }
 },
 "nbformat": 4,
 "nbformat_minor": 4
}
