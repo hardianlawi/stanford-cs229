{
 "cells": [
  {
   "cell_type": "code",
   "execution_count": 1,
   "metadata": {
    "ExecuteTime": {
     "end_time": "2020-09-09T16:47:08.947615Z",
     "start_time": "2020-09-09T16:47:08.828683Z"
    }
   },
   "outputs": [
    {
     "data": {
      "application/javascript": [
       "\n",
       "            setTimeout(function() {\n",
       "                var nbb_cell_id = 1;\n",
       "                var nbb_unformatted_code = \"%load_ext nb_black\\n%load_ext autoreload\\n%autoreload 2\";\n",
       "                var nbb_formatted_code = \"%load_ext nb_black\\n%load_ext autoreload\\n%autoreload 2\";\n",
       "                var nbb_cells = Jupyter.notebook.get_cells();\n",
       "                for (var i = 0; i < nbb_cells.length; ++i) {\n",
       "                    if (nbb_cells[i].input_prompt_number == nbb_cell_id) {\n",
       "                        if (nbb_cells[i].get_text() == nbb_unformatted_code) {\n",
       "                             nbb_cells[i].set_text(nbb_formatted_code);\n",
       "                        }\n",
       "                        break;\n",
       "                    }\n",
       "                }\n",
       "            }, 500);\n",
       "            "
      ],
      "text/plain": [
       "<IPython.core.display.Javascript object>"
      ]
     },
     "metadata": {},
     "output_type": "display_data"
    }
   ],
   "source": [
    "%load_ext nb_black\n",
    "%load_ext autoreload\n",
    "%autoreload 2"
   ]
  },
  {
   "cell_type": "code",
   "execution_count": 2,
   "metadata": {
    "ExecuteTime": {
     "end_time": "2020-09-09T16:47:09.213340Z",
     "start_time": "2020-09-09T16:47:08.949863Z"
    }
   },
   "outputs": [
    {
     "data": {
      "application/javascript": [
       "\n",
       "            setTimeout(function() {\n",
       "                var nbb_cell_id = 2;\n",
       "                var nbb_unformatted_code = \"import numpy as np\\nimport util\\n\\nfrom logreg import LogisticRegression\\nfrom gda import GDA\";\n",
       "                var nbb_formatted_code = \"import numpy as np\\nimport util\\n\\nfrom logreg import LogisticRegression\\nfrom gda import GDA\";\n",
       "                var nbb_cells = Jupyter.notebook.get_cells();\n",
       "                for (var i = 0; i < nbb_cells.length; ++i) {\n",
       "                    if (nbb_cells[i].input_prompt_number == nbb_cell_id) {\n",
       "                        if (nbb_cells[i].get_text() == nbb_unformatted_code) {\n",
       "                             nbb_cells[i].set_text(nbb_formatted_code);\n",
       "                        }\n",
       "                        break;\n",
       "                    }\n",
       "                }\n",
       "            }, 500);\n",
       "            "
      ],
      "text/plain": [
       "<IPython.core.display.Javascript object>"
      ]
     },
     "metadata": {},
     "output_type": "display_data"
    }
   ],
   "source": [
    "import numpy as np\n",
    "import util\n",
    "\n",
    "from logreg import LogisticRegression\n",
    "from gda import GDA"
   ]
  },
  {
   "cell_type": "markdown",
   "metadata": {},
   "source": [
    "# Dataset 1"
   ]
  },
  {
   "cell_type": "code",
   "execution_count": 3,
   "metadata": {
    "ExecuteTime": {
     "end_time": "2020-09-09T16:47:09.230224Z",
     "start_time": "2020-09-09T16:47:09.215393Z"
    }
   },
   "outputs": [
    {
     "data": {
      "application/javascript": [
       "\n",
       "            setTimeout(function() {\n",
       "                var nbb_cell_id = 3;\n",
       "                var nbb_unformatted_code = \"train_path = \\\"ds1_train.csv\\\"\\nvalid_path = \\\"ds1_valid.csv\\\"\";\n",
       "                var nbb_formatted_code = \"train_path = \\\"ds1_train.csv\\\"\\nvalid_path = \\\"ds1_valid.csv\\\"\";\n",
       "                var nbb_cells = Jupyter.notebook.get_cells();\n",
       "                for (var i = 0; i < nbb_cells.length; ++i) {\n",
       "                    if (nbb_cells[i].input_prompt_number == nbb_cell_id) {\n",
       "                        if (nbb_cells[i].get_text() == nbb_unformatted_code) {\n",
       "                             nbb_cells[i].set_text(nbb_formatted_code);\n",
       "                        }\n",
       "                        break;\n",
       "                    }\n",
       "                }\n",
       "            }, 500);\n",
       "            "
      ],
      "text/plain": [
       "<IPython.core.display.Javascript object>"
      ]
     },
     "metadata": {},
     "output_type": "display_data"
    }
   ],
   "source": [
    "train_path = \"ds1_train.csv\"\n",
    "valid_path = \"ds1_valid.csv\""
   ]
  },
  {
   "cell_type": "markdown",
   "metadata": {},
   "source": [
    "## Logistic Regression"
   ]
  },
  {
   "cell_type": "code",
   "execution_count": 4,
   "metadata": {
    "ExecuteTime": {
     "end_time": "2020-09-09T16:52:22.346087Z",
     "start_time": "2020-09-09T16:47:09.231987Z"
    },
    "scrolled": false
   },
   "outputs": [
    {
     "name": "stdout",
     "output_type": "stream",
     "text": [
      "Loss at step 0: 0.693147\n",
      "Loss at step 1000: 0.669761\n",
      "Loss at step 2000: 0.648954\n",
      "Loss at step 3000: 0.630312\n",
      "Loss at step 4000: 0.613510\n",
      "Loss at step 5000: 0.598292\n",
      "Loss at step 6000: 0.584449\n",
      "Loss at step 7000: 0.571809\n",
      "Loss at step 8000: 0.560230\n",
      "Loss at step 9000: 0.549588\n",
      "Loss at step 10000: 0.539777\n",
      "Loss at step 11000: 0.530704\n",
      "Loss at step 12000: 0.522286\n",
      "Loss at step 13000: 0.514450\n",
      "Loss at step 14000: 0.507132\n",
      "Loss at step 15000: 0.500276\n",
      "Loss at step 16000: 0.493838\n",
      "Loss at step 17000: 0.487781\n",
      "Loss at step 18000: 0.482079\n",
      "Loss at step 19000: 0.476709\n",
      "Loss at step 20000: 0.471653\n",
      "Loss at step 21000: 0.466896\n",
      "Loss at step 22000: 0.462421\n",
      "Loss at step 23000: 0.458216\n",
      "Loss at step 24000: 0.454268\n",
      "Loss at step 25000: 0.450564\n",
      "Loss at step 26000: 0.447093\n",
      "Loss at step 27000: 0.443845\n",
      "Loss at step 28000: 0.440808\n",
      "Loss at step 29000: 0.437973\n",
      "Loss at step 30000: 0.435331\n",
      "Loss at step 31000: 0.432871\n",
      "Loss at step 32000: 0.430585\n",
      "Loss at step 33000: 0.428464\n",
      "Loss at step 34000: 0.426498\n",
      "Loss at step 35000: 0.424680\n",
      "Loss at step 36000: 0.423000\n",
      "Loss at step 37000: 0.421451\n",
      "Loss at step 38000: 0.420024\n",
      "Loss at step 39000: 0.418712\n",
      "Loss at step 40000: 0.417507\n",
      "Loss at step 41000: 0.416402\n",
      "Loss at step 42000: 0.415391\n",
      "Loss at step 43000: 0.414467\n",
      "Loss at step 44000: 0.413623\n",
      "Loss at step 45000: 0.412853\n",
      "Loss at step 46000: 0.412153\n",
      "Loss at step 47000: 0.411516\n",
      "Loss at step 48000: 0.410938\n",
      "Loss at step 49000: 0.410414\n",
      "Loss at step 50000: 0.409939\n",
      "Loss at step 51000: 0.409510\n",
      "Loss at step 52000: 0.409121\n",
      "Loss at step 53000: 0.408771\n",
      "Loss at step 54000: 0.408455\n",
      "Loss at step 55000: 0.408171\n",
      "Loss at step 56000: 0.407915\n",
      "Loss at step 57000: 0.407685\n",
      "Loss at step 58000: 0.407479\n",
      "Loss at step 59000: 0.407293\n",
      "Loss at step 60000: 0.407127\n",
      "LogReg acc: 0.83\n",
      "LogReg log loss: 0.4814568144764772\n"
     ]
    },
    {
     "data": {
      "image/png": "[encoded data removed]",
      "text/plain": [
       "<Figure size 432x288 with 1 Axes>"
      ]
     },
     "metadata": {
      "needs_background": "light"
     },
     "output_type": "display_data"
    },
    {
     "data": {
      "application/javascript": [
       "\n",
       "            setTimeout(function() {\n",
       "                var nbb_cell_id = 4;\n",
       "                var nbb_unformatted_code = \"save_path = \\\"logreg_pred_1.txt\\\"\\nx_train, y_train = util.load_dataset(train_path, add_intercept=True)\\n\\n# *** START CODE HERE ***\\n# Train a logistic regression classifier\\n# Plot decision boundary on top of validation set\\n# Use np.savetxt to save predictions on eval set to save_path\\n\\nmodel = LogisticRegression(5e-2, max_iter=60000)\\nmodel.fit(x_train, y_train)\\n\\nx_val, y_val = util.load_dataset(valid_path, add_intercept=True)\\nutil.plot(x_val, y_val, model.theta, save_path=save_path.replace(\\\".txt\\\", \\\".png\\\"))\\n\\nyhat = model.predict(x_val)\\nnp.savetxt(save_path, yhat)\\n\\nprint(f\\\"LogReg acc: {util.compute_accuracy(y_val, yhat)}\\\")\\nprint(f\\\"LogReg log loss: {util.compute_log_loss(y_val, yhat)}\\\")\\n\\n# *** END CODE HERE ***\";\n",
       "                var nbb_formatted_code = \"save_path = \\\"logreg_pred_1.txt\\\"\\nx_train, y_train = util.load_dataset(train_path, add_intercept=True)\\n\\n# *** START CODE HERE ***\\n# Train a logistic regression classifier\\n# Plot decision boundary on top of validation set\\n# Use np.savetxt to save predictions on eval set to save_path\\n\\nmodel = LogisticRegression(5e-2, max_iter=60000)\\nmodel.fit(x_train, y_train)\\n\\nx_val, y_val = util.load_dataset(valid_path, add_intercept=True)\\nutil.plot(x_val, y_val, model.theta, save_path=save_path.replace(\\\".txt\\\", \\\".png\\\"))\\n\\nyhat = model.predict(x_val)\\nnp.savetxt(save_path, yhat)\\n\\nprint(f\\\"LogReg acc: {util.compute_accuracy(y_val, yhat)}\\\")\\nprint(f\\\"LogReg log loss: {util.compute_log_loss(y_val, yhat)}\\\")\\n\\n# *** END CODE HERE ***\";\n",
       "                var nbb_cells = Jupyter.notebook.get_cells();\n",
       "                for (var i = 0; i < nbb_cells.length; ++i) {\n",
       "                    if (nbb_cells[i].input_prompt_number == nbb_cell_id) {\n",
       "                        if (nbb_cells[i].get_text() == nbb_unformatted_code) {\n",
       "                             nbb_cells[i].set_text(nbb_formatted_code);\n",
       "                        }\n",
       "                        break;\n",
       "                    }\n",
       "                }\n",
       "            }, 500);\n",
       "            "
      ],
      "text/plain": [
       "<IPython.core.display.Javascript object>"
      ]
     },
     "metadata": {},
     "output_type": "display_data"
    }
   ],
   "source": [
    "save_path = \"logreg_pred_1.txt\"\n",
    "x_train, y_train = util.load_dataset(train_path, add_intercept=True)\n",
    "\n",
    "# *** START CODE HERE ***\n",
    "# Train a logistic regression classifier\n",
    "# Plot decision boundary on top of validation set\n",
    "# Use np.savetxt to save predictions on eval set to save_path\n",
    "\n",
    "model = LogisticRegression(5e-2, max_iter=60000)\n",
    "model.fit(x_train, y_train)\n",
    "\n",
    "x_val, y_val = util.load_dataset(valid_path, add_intercept=True)\n",
    "util.plot(x_val, y_val, model.theta, save_path=save_path.replace(\".txt\", \".png\"))\n",
    "\n",
    "yhat = model.predict(x_val)\n",
    "np.savetxt(save_path, yhat)\n",
    "\n",
    "print(f\"LogReg acc: {util.compute_accuracy(y_val, yhat)}\")\n",
    "print(f\"LogReg log loss: {util.compute_log_loss(y_val, yhat)}\")\n",
    "\n",
    "# *** END CODE HERE ***\n"
   ]
  },
  {
   "cell_type": "markdown",
   "metadata": {},
   "source": [
    "## GDA"
   ]
  },
  {
   "cell_type": "code",
   "execution_count": 5,
   "metadata": {
    "ExecuteTime": {
     "end_time": "2020-09-09T16:52:22.513247Z",
     "start_time": "2020-09-09T16:52:22.347883Z"
    }
   },
   "outputs": [
    {
     "name": "stdout",
     "output_type": "stream",
     "text": [
      "GDA acc: 0.81\n",
      "GDA log loss: 0.46534103938686855\n"
     ]
    },
    {
     "data": {
      "image/png": "[encoded data removed]",
      "text/plain": [
       "<Figure size 432x288 with 1 Axes>"
      ]
     },
     "metadata": {
      "needs_background": "light"
     },
     "output_type": "display_data"
    },
    {
     "data": {
      "application/javascript": [
       "\n",
       "            setTimeout(function() {\n",
       "                var nbb_cell_id = 5;\n",
       "                var nbb_unformatted_code = \"save_path = \\\"gda_pred_1.txt\\\"\\n\\n# Load dataset\\nx_train, y_train = util.load_dataset(train_path, add_intercept=False)\\n\\n# *** START CODE HERE ***\\n# Train a GDA classifier\\n# Plot decision boundary on validation set\\n# Use np.savetxt to save outputs from validation set to save_path\\n\\nmodel = GDA()\\nmodel.fit(x_train, y_train)\\n\\nx_val, y_val = util.load_dataset(valid_path, add_intercept=False)\\nutil.plot(x_val, y_val, model.theta, save_path=save_path.replace(\\\".txt\\\", \\\".png\\\"))\\n\\nyhat = model.predict(x_val)\\nnp.savetxt(save_path, yhat)\\n\\nprint(f\\\"GDA acc: {util.compute_accuracy(y_val, yhat)}\\\")\\nprint(f\\\"GDA log loss: {util.compute_log_loss(y_val, yhat)}\\\")\\n# *** END CODE HERE ***\";\n",
       "                var nbb_formatted_code = \"save_path = \\\"gda_pred_1.txt\\\"\\n\\n# Load dataset\\nx_train, y_train = util.load_dataset(train_path, add_intercept=False)\\n\\n# *** START CODE HERE ***\\n# Train a GDA classifier\\n# Plot decision boundary on validation set\\n# Use np.savetxt to save outputs from validation set to save_path\\n\\nmodel = GDA()\\nmodel.fit(x_train, y_train)\\n\\nx_val, y_val = util.load_dataset(valid_path, add_intercept=False)\\nutil.plot(x_val, y_val, model.theta, save_path=save_path.replace(\\\".txt\\\", \\\".png\\\"))\\n\\nyhat = model.predict(x_val)\\nnp.savetxt(save_path, yhat)\\n\\nprint(f\\\"GDA acc: {util.compute_accuracy(y_val, yhat)}\\\")\\nprint(f\\\"GDA log loss: {util.compute_log_loss(y_val, yhat)}\\\")\\n# *** END CODE HERE ***\";\n",
       "                var nbb_cells = Jupyter.notebook.get_cells();\n",
       "                for (var i = 0; i < nbb_cells.length; ++i) {\n",
       "                    if (nbb_cells[i].input_prompt_number == nbb_cell_id) {\n",
       "                        if (nbb_cells[i].get_text() == nbb_unformatted_code) {\n",
       "                             nbb_cells[i].set_text(nbb_formatted_code);\n",
       "                        }\n",
       "                        break;\n",
       "                    }\n",
       "                }\n",
       "            }, 500);\n",
       "            "
      ],
      "text/plain": [
       "<IPython.core.display.Javascript object>"
      ]
     },
     "metadata": {},
     "output_type": "display_data"
    }
   ],
   "source": [
    "save_path = \"gda_pred_1.txt\"\n",
    "\n",
    "# Load dataset\n",
    "x_train, y_train = util.load_dataset(train_path, add_intercept=False)\n",
    "\n",
    "# *** START CODE HERE ***\n",
    "# Train a GDA classifier\n",
    "# Plot decision boundary on validation set\n",
    "# Use np.savetxt to save outputs from validation set to save_path\n",
    "\n",
    "model = GDA()\n",
    "model.fit(x_train, y_train)\n",
    "\n",
    "x_val, y_val = util.load_dataset(valid_path, add_intercept=False)\n",
    "util.plot(x_val, y_val, model.theta, save_path=save_path.replace(\".txt\", \".png\"))\n",
    "\n",
    "yhat = model.predict(x_val)\n",
    "np.savetxt(save_path, yhat)\n",
    "\n",
    "print(f\"GDA acc: {util.compute_accuracy(y_val, yhat)}\")\n",
    "print(f\"GDA log loss: {util.compute_log_loss(y_val, yhat)}\")\n",
    "# *** END CODE HERE ***"
   ]
  },
  {
   "cell_type": "markdown",
   "metadata": {},
   "source": [
    "# Dataset 2"
   ]
  },
  {
   "cell_type": "code",
   "execution_count": 6,
   "metadata": {
    "ExecuteTime": {
     "end_time": "2020-09-09T16:52:22.528194Z",
     "start_time": "2020-09-09T16:52:22.514924Z"
    }
   },
   "outputs": [
    {
     "data": {
      "application/javascript": [
       "\n",
       "            setTimeout(function() {\n",
       "                var nbb_cell_id = 6;\n",
       "                var nbb_unformatted_code = \"train_path = \\\"ds2_train.csv\\\"\\nvalid_path = \\\"ds2_valid.csv\\\"\";\n",
       "                var nbb_formatted_code = \"train_path = \\\"ds2_train.csv\\\"\\nvalid_path = \\\"ds2_valid.csv\\\"\";\n",
       "                var nbb_cells = Jupyter.notebook.get_cells();\n",
       "                for (var i = 0; i < nbb_cells.length; ++i) {\n",
       "                    if (nbb_cells[i].input_prompt_number == nbb_cell_id) {\n",
       "                        if (nbb_cells[i].get_text() == nbb_unformatted_code) {\n",
       "                             nbb_cells[i].set_text(nbb_formatted_code);\n",
       "                        }\n",
       "                        break;\n",
       "                    }\n",
       "                }\n",
       "            }, 500);\n",
       "            "
      ],
      "text/plain": [
       "<IPython.core.display.Javascript object>"
      ]
     },
     "metadata": {},
     "output_type": "display_data"
    }
   ],
   "source": [
    "train_path = \"ds2_train.csv\"\n",
    "valid_path = \"ds2_valid.csv\""
   ]
  },
  {
   "cell_type": "markdown",
   "metadata": {},
   "source": [
    "## Logistic Regression"
   ]
  },
  {
   "cell_type": "code",
   "execution_count": 7,
   "metadata": {
    "ExecuteTime": {
     "end_time": "2020-09-09T16:58:18.903592Z",
     "start_time": "2020-09-09T16:52:22.529789Z"
    }
   },
   "outputs": [
    {
     "name": "stdout",
     "output_type": "stream",
     "text": [
      "Loss at step 0: 0.693147\n",
      "Loss at step 1000: 0.670986\n",
      "Loss at step 2000: 0.651292\n",
      "Loss at step 3000: 0.633684\n",
      "Loss at step 4000: 0.617866\n",
      "Loss at step 5000: 0.603597\n",
      "Loss at step 6000: 0.590684\n",
      "Loss at step 7000: 0.578966\n",
      "Loss at step 8000: 0.568312\n",
      "Loss at step 9000: 0.558609\n",
      "Loss at step 10000: 0.549761\n",
      "Loss at step 11000: 0.541684\n",
      "Loss at step 12000: 0.534308\n",
      "Loss at step 13000: 0.527568\n",
      "Loss at step 14000: 0.521408\n",
      "Loss at step 15000: 0.515779\n",
      "Loss at step 16000: 0.510635\n",
      "Loss at step 17000: 0.505936\n",
      "Loss at step 18000: 0.501644\n",
      "Loss at step 19000: 0.497727\n",
      "Loss at step 20000: 0.494154\n",
      "Loss at step 21000: 0.490896\n",
      "Loss at step 22000: 0.487929\n",
      "Loss at step 23000: 0.485227\n",
      "Loss at step 24000: 0.482769\n",
      "Loss at step 25000: 0.480535\n",
      "Loss at step 26000: 0.478506\n",
      "Loss at step 27000: 0.476665\n",
      "Loss at step 28000: 0.474997\n",
      "Loss at step 29000: 0.473485\n",
      "Loss at step 30000: 0.472117\n",
      "Loss at step 31000: 0.470881\n",
      "Loss at step 32000: 0.469763\n",
      "Loss at step 33000: 0.468755\n",
      "Loss at step 34000: 0.467846\n",
      "Loss at step 35000: 0.467027\n",
      "Loss at step 36000: 0.466290\n",
      "Loss at step 37000: 0.465626\n",
      "Loss at step 38000: 0.465030\n",
      "Loss at step 39000: 0.464495\n",
      "Loss at step 40000: 0.464015\n",
      "Loss at step 41000: 0.463585\n",
      "Loss at step 42000: 0.463199\n",
      "Loss at step 43000: 0.462854\n",
      "Loss at step 44000: 0.462545\n",
      "Loss at step 45000: 0.462269\n",
      "Loss at step 46000: 0.462022\n",
      "Loss at step 47000: 0.461801\n",
      "Loss at step 48000: 0.461605\n",
      "Loss at step 49000: 0.461429\n",
      "Loss at step 50000: 0.461273\n",
      "Loss at step 51000: 0.461134\n",
      "Loss at step 52000: 0.461010\n",
      "Loss at step 53000: 0.460899\n",
      "Loss at step 54000: 0.460801\n",
      "Loss at step 55000: 0.460714\n",
      "Loss at step 56000: 0.460636\n",
      "Loss at step 57000: 0.460567\n",
      "Loss at step 58000: 0.460506\n",
      "Loss at step 59000: 0.460451\n",
      "Loss at step 60000: 0.460403\n",
      "LogReg acc: 0.86\n",
      "LogReg log loss: 0.3773266047577833\n"
     ]
    },
    {
     "data": {
      "image/png": "[encoded data removed]",
      "text/plain": [
       "<Figure size 432x288 with 1 Axes>"
      ]
     },
     "metadata": {
      "needs_background": "light"
     },
     "output_type": "display_data"
    },
    {
     "data": {
      "application/javascript": [
       "\n",
       "            setTimeout(function() {\n",
       "                var nbb_cell_id = 7;\n",
       "                var nbb_unformatted_code = \"save_path = \\\"logreg_pred_2.txt\\\"\\nx_train, y_train = util.load_dataset(train_path, add_intercept=True)\\n\\n# *** START CODE HERE ***\\n# Train a logistic regression classifier\\n# Plot decision boundary on top of validation set\\n# Use np.savetxt to save predictions on eval set to save_path\\n\\nmodel = LogisticRegression(5e-2, max_iter=60000)\\nmodel.fit(x_train, y_train)\\n\\nx_val, y_val = util.load_dataset(valid_path, add_intercept=True)\\nutil.plot(x_val, y_val, model.theta, save_path=save_path.replace(\\\".txt\\\", \\\".png\\\"))\\n\\nyhat = model.predict(x_val)\\nnp.savetxt(save_path, yhat)\\n\\nprint(f\\\"LogReg acc: {util.compute_accuracy(y_val, yhat)}\\\")\\nprint(f\\\"LogReg log loss: {util.compute_log_loss(y_val, yhat)}\\\")\\n\\n# *** END CODE HERE ***\";\n",
       "                var nbb_formatted_code = \"save_path = \\\"logreg_pred_2.txt\\\"\\nx_train, y_train = util.load_dataset(train_path, add_intercept=True)\\n\\n# *** START CODE HERE ***\\n# Train a logistic regression classifier\\n# Plot decision boundary on top of validation set\\n# Use np.savetxt to save predictions on eval set to save_path\\n\\nmodel = LogisticRegression(5e-2, max_iter=60000)\\nmodel.fit(x_train, y_train)\\n\\nx_val, y_val = util.load_dataset(valid_path, add_intercept=True)\\nutil.plot(x_val, y_val, model.theta, save_path=save_path.replace(\\\".txt\\\", \\\".png\\\"))\\n\\nyhat = model.predict(x_val)\\nnp.savetxt(save_path, yhat)\\n\\nprint(f\\\"LogReg acc: {util.compute_accuracy(y_val, yhat)}\\\")\\nprint(f\\\"LogReg log loss: {util.compute_log_loss(y_val, yhat)}\\\")\\n\\n# *** END CODE HERE ***\";\n",
       "                var nbb_cells = Jupyter.notebook.get_cells();\n",
       "                for (var i = 0; i < nbb_cells.length; ++i) {\n",
       "                    if (nbb_cells[i].input_prompt_number == nbb_cell_id) {\n",
       "                        if (nbb_cells[i].get_text() == nbb_unformatted_code) {\n",
       "                             nbb_cells[i].set_text(nbb_formatted_code);\n",
       "                        }\n",
       "                        break;\n",
       "                    }\n",
       "                }\n",
       "            }, 500);\n",
       "            "
      ],
      "text/plain": [
       "<IPython.core.display.Javascript object>"
      ]
     },
     "metadata": {},
     "output_type": "display_data"
    }
   ],
   "source": [
    "save_path = \"logreg_pred_2.txt\"\n",
    "x_train, y_train = util.load_dataset(train_path, add_intercept=True)\n",
    "\n",
    "# *** START CODE HERE ***\n",
    "# Train a logistic regression classifier\n",
    "# Plot decision boundary on top of validation set\n",
    "# Use np.savetxt to save predictions on eval set to save_path\n",
    "\n",
    "model = LogisticRegression(5e-2, max_iter=60000)\n",
    "model.fit(x_train, y_train)\n",
    "\n",
    "x_val, y_val = util.load_dataset(valid_path, add_intercept=True)\n",
    "util.plot(x_val, y_val, model.theta, save_path=save_path.replace(\".txt\", \".png\"))\n",
    "\n",
    "yhat = model.predict(x_val)\n",
    "np.savetxt(save_path, yhat)\n",
    "\n",
    "print(f\"LogReg acc: {util.compute_accuracy(y_val, yhat)}\")\n",
    "print(f\"LogReg log loss: {util.compute_log_loss(y_val, yhat)}\")\n",
    "\n",
    "# *** END CODE HERE ***\n"
   ]
  },
  {
   "cell_type": "markdown",
   "metadata": {},
   "source": [
    "## GDA"
   ]
  },
  {
   "cell_type": "code",
   "execution_count": 8,
   "metadata": {
    "ExecuteTime": {
     "end_time": "2020-09-09T16:58:19.068493Z",
     "start_time": "2020-09-09T16:58:18.906804Z"
    }
   },
   "outputs": [
    {
     "name": "stdout",
     "output_type": "stream",
     "text": [
      "GDA acc: 0.86\n",
      "GDA log loss: 0.3733052887664787\n"
     ]
    },
    {
     "data": {
      "image/png": "[encoded data removed]",
      "text/plain": [
       "<Figure size 432x288 with 1 Axes>"
      ]
     },
     "metadata": {
      "needs_background": "light"
     },
     "output_type": "display_data"
    },
    {
     "data": {
      "application/javascript": [
       "\n",
       "            setTimeout(function() {\n",
       "                var nbb_cell_id = 8;\n",
       "                var nbb_unformatted_code = \"save_path = \\\"gda_pred_2.txt\\\"\\n\\n# Load dataset\\nx_train, y_train = util.load_dataset(train_path, add_intercept=False)\\n\\n# *** START CODE HERE ***\\n# Train a GDA classifier\\n# Plot decision boundary on validation set\\n# Use np.savetxt to save outputs from validation set to save_path\\n\\nmodel = GDA()\\nmodel.fit(x_train, y_train)\\n\\nx_val, y_val = util.load_dataset(valid_path, add_intercept=False)\\nutil.plot(x_val, y_val, model.theta, save_path=save_path.replace(\\\".txt\\\", \\\".png\\\"))\\n\\nyhat = model.predict(x_val)\\nnp.savetxt(save_path, yhat)\\n\\nprint(f\\\"GDA acc: {util.compute_accuracy(y_val, yhat)}\\\")\\nprint(f\\\"GDA log loss: {util.compute_log_loss(y_val, yhat)}\\\")\\n# *** END CODE HERE ***\";\n",
       "                var nbb_formatted_code = \"save_path = \\\"gda_pred_2.txt\\\"\\n\\n# Load dataset\\nx_train, y_train = util.load_dataset(train_path, add_intercept=False)\\n\\n# *** START CODE HERE ***\\n# Train a GDA classifier\\n# Plot decision boundary on validation set\\n# Use np.savetxt to save outputs from validation set to save_path\\n\\nmodel = GDA()\\nmodel.fit(x_train, y_train)\\n\\nx_val, y_val = util.load_dataset(valid_path, add_intercept=False)\\nutil.plot(x_val, y_val, model.theta, save_path=save_path.replace(\\\".txt\\\", \\\".png\\\"))\\n\\nyhat = model.predict(x_val)\\nnp.savetxt(save_path, yhat)\\n\\nprint(f\\\"GDA acc: {util.compute_accuracy(y_val, yhat)}\\\")\\nprint(f\\\"GDA log loss: {util.compute_log_loss(y_val, yhat)}\\\")\\n# *** END CODE HERE ***\";\n",
       "                var nbb_cells = Jupyter.notebook.get_cells();\n",
       "                for (var i = 0; i < nbb_cells.length; ++i) {\n",
       "                    if (nbb_cells[i].input_prompt_number == nbb_cell_id) {\n",
       "                        if (nbb_cells[i].get_text() == nbb_unformatted_code) {\n",
       "                             nbb_cells[i].set_text(nbb_formatted_code);\n",
       "                        }\n",
       "                        break;\n",
       "                    }\n",
       "                }\n",
       "            }, 500);\n",
       "            "
      ],
      "text/plain": [
       "<IPython.core.display.Javascript object>"
      ]
     },
     "metadata": {},
     "output_type": "display_data"
    }
   ],
   "source": [
    "save_path = \"gda_pred_2.txt\"\n",
    "\n",
    "# Load dataset\n",
    "x_train, y_train = util.load_dataset(train_path, add_intercept=False)\n",
    "\n",
    "# *** START CODE HERE ***\n",
    "# Train a GDA classifier\n",
    "# Plot decision boundary on validation set\n",
    "# Use np.savetxt to save outputs from validation set to save_path\n",
    "\n",
    "model = GDA()\n",
    "model.fit(x_train, y_train)\n",
    "\n",
    "x_val, y_val = util.load_dataset(valid_path, add_intercept=False)\n",
    "util.plot(x_val, y_val, model.theta, save_path=save_path.replace(\".txt\", \".png\"))\n",
    "\n",
    "yhat = model.predict(x_val)\n",
    "np.savetxt(save_path, yhat)\n",
    "\n",
    "print(f\"GDA acc: {util.compute_accuracy(y_val, yhat)}\")\n",
    "print(f\"GDA log loss: {util.compute_log_loss(y_val, yhat)}\")\n",
    "# *** END CODE HERE ***"
   ]
  }
 ],
 "metadata": {
  "kernelspec": {
   "display_name": "cs229-ps1",
   "language": "python",
   "name": "cs229-ps1"
  },
  "language_info": {
   "codemirror_mode": {
    "name": "ipython",
    "version": 3
   },
   "file_extension": ".py",
   "mimetype": "text/x-python",
   "name": "python",
   "nbconvert_exporter": "python",
   "pygments_lexer": "ipython3",
   "version": "3.6.6"
  },
  "toc": {
   "base_numbering": 1,
   "nav_menu": {},
   "number_sections": true,
   "sideBar": true,
   "skip_h1_title": false,
   "title_cell": "Table of Contents",
   "title_sidebar": "Contents",
   "toc_cell": false,
   "toc_position": {},
   "toc_section_display": true,
   "toc_window_display": false
  }
 },
 "nbformat": 4,
 "nbformat_minor": 4
}
