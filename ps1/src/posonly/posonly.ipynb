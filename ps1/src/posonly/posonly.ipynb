{
 "cells": [
  {
   "cell_type": "code",
   "execution_count": 1,
   "metadata": {
    "ExecuteTime": {
     "end_time": "2020-09-10T15:02:25.755242Z",
     "start_time": "2020-09-10T15:02:25.597563Z"
    }
   },
   "outputs": [
    {
     "data": {
      "application/javascript": [
       "\n",
       "            setTimeout(function() {\n",
       "                var nbb_cell_id = 1;\n",
       "                var nbb_unformatted_code = \"%load_ext nb_black\\n%load_ext autoreload\\n%autoreload 2\";\n",
       "                var nbb_formatted_code = \"%load_ext nb_black\\n%load_ext autoreload\\n%autoreload 2\";\n",
       "                var nbb_cells = Jupyter.notebook.get_cells();\n",
       "                for (var i = 0; i < nbb_cells.length; ++i) {\n",
       "                    if (nbb_cells[i].input_prompt_number == nbb_cell_id) {\n",
       "                        if (nbb_cells[i].get_text() == nbb_unformatted_code) {\n",
       "                             nbb_cells[i].set_text(nbb_formatted_code);\n",
       "                        }\n",
       "                        break;\n",
       "                    }\n",
       "                }\n",
       "            }, 500);\n",
       "            "
      ],
      "text/plain": [
       "<IPython.core.display.Javascript object>"
      ]
     },
     "metadata": {},
     "output_type": "display_data"
    }
   ],
   "source": [
    "%load_ext nb_black\n",
    "%load_ext autoreload\n",
    "%autoreload 2"
   ]
  },
  {
   "cell_type": "code",
   "execution_count": 2,
   "metadata": {
    "ExecuteTime": {
     "end_time": "2020-09-10T15:02:26.023673Z",
     "start_time": "2020-09-10T15:02:25.757333Z"
    }
   },
   "outputs": [
    {
     "data": {
      "application/javascript": [
       "\n",
       "            setTimeout(function() {\n",
       "                var nbb_cell_id = 2;\n",
       "                var nbb_unformatted_code = \"import sys\\n\\nsys.path.append(\\\"../linearclass\\\")\\n\\nimport numpy as np\\nimport util\\nfrom logreg import LogisticRegression\";\n",
       "                var nbb_formatted_code = \"import sys\\n\\nsys.path.append(\\\"../linearclass\\\")\\n\\nimport numpy as np\\nimport util\\nfrom logreg import LogisticRegression\";\n",
       "                var nbb_cells = Jupyter.notebook.get_cells();\n",
       "                for (var i = 0; i < nbb_cells.length; ++i) {\n",
       "                    if (nbb_cells[i].input_prompt_number == nbb_cell_id) {\n",
       "                        if (nbb_cells[i].get_text() == nbb_unformatted_code) {\n",
       "                             nbb_cells[i].set_text(nbb_formatted_code);\n",
       "                        }\n",
       "                        break;\n",
       "                    }\n",
       "                }\n",
       "            }, 500);\n",
       "            "
      ],
      "text/plain": [
       "<IPython.core.display.Javascript object>"
      ]
     },
     "metadata": {},
     "output_type": "display_data"
    }
   ],
   "source": [
    "import sys\n",
    "\n",
    "sys.path.append(\"../linearclass\")\n",
    "\n",
    "import numpy as np\n",
    "import util\n",
    "from logreg import LogisticRegression"
   ]
  },
  {
   "cell_type": "code",
   "execution_count": 3,
   "metadata": {
    "ExecuteTime": {
     "end_time": "2020-09-10T15:02:26.041151Z",
     "start_time": "2020-09-10T15:02:26.025834Z"
    }
   },
   "outputs": [
    {
     "data": {
      "application/javascript": [
       "\n",
       "            setTimeout(function() {\n",
       "                var nbb_cell_id = 3;\n",
       "                var nbb_unformatted_code = \"train_path = \\\"train.csv\\\"\\nvalid_path = \\\"valid.csv\\\"\\ntest_path = \\\"test.csv\\\"\\nsave_path = \\\"posonly_X_pred.txt\\\"\";\n",
       "                var nbb_formatted_code = \"train_path = \\\"train.csv\\\"\\nvalid_path = \\\"valid.csv\\\"\\ntest_path = \\\"test.csv\\\"\\nsave_path = \\\"posonly_X_pred.txt\\\"\";\n",
       "                var nbb_cells = Jupyter.notebook.get_cells();\n",
       "                for (var i = 0; i < nbb_cells.length; ++i) {\n",
       "                    if (nbb_cells[i].input_prompt_number == nbb_cell_id) {\n",
       "                        if (nbb_cells[i].get_text() == nbb_unformatted_code) {\n",
       "                             nbb_cells[i].set_text(nbb_formatted_code);\n",
       "                        }\n",
       "                        break;\n",
       "                    }\n",
       "                }\n",
       "            }, 500);\n",
       "            "
      ],
      "text/plain": [
       "<IPython.core.display.Javascript object>"
      ]
     },
     "metadata": {},
     "output_type": "display_data"
    }
   ],
   "source": [
    "train_path = \"train.csv\"\n",
    "valid_path = \"valid.csv\"\n",
    "test_path = \"test.csv\"\n",
    "save_path = \"posonly_X_pred.txt\""
   ]
  },
  {
   "cell_type": "code",
   "execution_count": 4,
   "metadata": {
    "ExecuteTime": {
     "end_time": "2020-09-10T15:02:26.058336Z",
     "start_time": "2020-09-10T15:02:26.042954Z"
    }
   },
   "outputs": [
    {
     "data": {
      "application/javascript": [
       "\n",
       "            setTimeout(function() {\n",
       "                var nbb_cell_id = 4;\n",
       "                var nbb_unformatted_code = \"WILDCARD = \\\"X\\\"\\n\\noutput_path_true = save_path.replace(WILDCARD, \\\"true\\\")\\noutput_path_naive = save_path.replace(WILDCARD, \\\"naive\\\")\\noutput_path_adjusted = save_path.replace(WILDCARD, \\\"adjusted\\\")\";\n",
       "                var nbb_formatted_code = \"WILDCARD = \\\"X\\\"\\n\\noutput_path_true = save_path.replace(WILDCARD, \\\"true\\\")\\noutput_path_naive = save_path.replace(WILDCARD, \\\"naive\\\")\\noutput_path_adjusted = save_path.replace(WILDCARD, \\\"adjusted\\\")\";\n",
       "                var nbb_cells = Jupyter.notebook.get_cells();\n",
       "                for (var i = 0; i < nbb_cells.length; ++i) {\n",
       "                    if (nbb_cells[i].input_prompt_number == nbb_cell_id) {\n",
       "                        if (nbb_cells[i].get_text() == nbb_unformatted_code) {\n",
       "                             nbb_cells[i].set_text(nbb_formatted_code);\n",
       "                        }\n",
       "                        break;\n",
       "                    }\n",
       "                }\n",
       "            }, 500);\n",
       "            "
      ],
      "text/plain": [
       "<IPython.core.display.Javascript object>"
      ]
     },
     "metadata": {},
     "output_type": "display_data"
    }
   ],
   "source": [
    "WILDCARD = \"X\"\n",
    "\n",
    "output_path_true = save_path.replace(WILDCARD, \"true\")\n",
    "output_path_naive = save_path.replace(WILDCARD, \"naive\")\n",
    "output_path_adjusted = save_path.replace(WILDCARD, \"adjusted\")"
   ]
  },
  {
   "cell_type": "code",
   "execution_count": 5,
   "metadata": {
    "ExecuteTime": {
     "end_time": "2020-09-10T15:03:36.540028Z",
     "start_time": "2020-09-10T15:02:26.059826Z"
    },
    "scrolled": false
   },
   "outputs": [
    {
     "name": "stdout",
     "output_type": "stream",
     "text": [
      "LogReg acc: 0.9682539682539683\n"
     ]
    },
    {
     "data": {
      "image/png": "[encoded data removed]",
      "text/plain": [
       "<Figure size 432x288 with 1 Axes>"
      ]
     },
     "metadata": {
      "needs_background": "light"
     },
     "output_type": "display_data"
    },
    {
     "data": {
      "application/javascript": [
       "\n",
       "            setTimeout(function() {\n",
       "                var nbb_cell_id = 5;\n",
       "                var nbb_unformatted_code = \"# Part (a): Train and test on true labels\\n# Make sure to save predicted probabilities to output_path_true using np.savetxt()\\n\\nx_train, y_train = util.load_dataset(train_path, label_col=\\\"t\\\", add_intercept=True)\\n\\nmodel = LogisticRegression(1.0, max_iter=5000, verbose=False)\\nmodel.fit(x_train, y_train)\\n\\nx_test, y_test = util.load_dataset(test_path, label_col=\\\"t\\\", add_intercept=True)\\nutil.plot(\\n    x_test, y_test, model.theta, save_path=output_path_true.replace(\\\".txt\\\", \\\".jpg\\\")\\n)\\n\\nnp.savetxt(output_path_true, model.predict(x_test))\\n\\nprint(f\\\"LogReg acc: {util.compute_accuracy(y_test, model.predict(x_test))}\\\")\";\n",
       "                var nbb_formatted_code = \"# Part (a): Train and test on true labels\\n# Make sure to save predicted probabilities to output_path_true using np.savetxt()\\n\\nx_train, y_train = util.load_dataset(train_path, label_col=\\\"t\\\", add_intercept=True)\\n\\nmodel = LogisticRegression(1.0, max_iter=5000, verbose=False)\\nmodel.fit(x_train, y_train)\\n\\nx_test, y_test = util.load_dataset(test_path, label_col=\\\"t\\\", add_intercept=True)\\nutil.plot(\\n    x_test, y_test, model.theta, save_path=output_path_true.replace(\\\".txt\\\", \\\".jpg\\\")\\n)\\n\\nnp.savetxt(output_path_true, model.predict(x_test))\\n\\nprint(f\\\"LogReg acc: {util.compute_accuracy(y_test, model.predict(x_test))}\\\")\";\n",
       "                var nbb_cells = Jupyter.notebook.get_cells();\n",
       "                for (var i = 0; i < nbb_cells.length; ++i) {\n",
       "                    if (nbb_cells[i].input_prompt_number == nbb_cell_id) {\n",
       "                        if (nbb_cells[i].get_text() == nbb_unformatted_code) {\n",
       "                             nbb_cells[i].set_text(nbb_formatted_code);\n",
       "                        }\n",
       "                        break;\n",
       "                    }\n",
       "                }\n",
       "            }, 500);\n",
       "            "
      ],
      "text/plain": [
       "<IPython.core.display.Javascript object>"
      ]
     },
     "metadata": {},
     "output_type": "display_data"
    }
   ],
   "source": [
    "# Part (a): Train and test on true labels\n",
    "# Make sure to save predicted probabilities to output_path_true using np.savetxt()\n",
    "\n",
    "x_train, y_train = util.load_dataset(train_path, label_col=\"t\", add_intercept=True)\n",
    "\n",
    "model = LogisticRegression(1.0, max_iter=5000, verbose=False)\n",
    "model.fit(x_train, y_train)\n",
    "\n",
    "x_test, y_test = util.load_dataset(test_path, label_col=\"t\", add_intercept=True)\n",
    "util.plot(\n",
    "    x_test, y_test, model.theta, save_path=output_path_true.replace(\".txt\", \".jpg\")\n",
    ")\n",
    "\n",
    "np.savetxt(output_path_true, model.predict(x_test))\n",
    "\n",
    "print(f\"LogReg acc: {util.compute_accuracy(y_test, model.predict(x_test))}\")"
   ]
  },
  {
   "cell_type": "code",
   "execution_count": 6,
   "metadata": {
    "ExecuteTime": {
     "end_time": "2020-09-10T15:04:38.562535Z",
     "start_time": "2020-09-10T15:03:36.541781Z"
    },
    "scrolled": false
   },
   "outputs": [
    {
     "name": "stdout",
     "output_type": "stream",
     "text": [
      "Loss at step 0: 0.693147\n",
      "Loss at step 1000: 0.405493\n",
      "Loss at step 2000: 0.318347\n",
      "Loss at step 3000: 0.287513\n",
      "Loss at step 4000: 0.276188\n",
      "Loss at step 5000: 0.272297\n",
      "LogReg acc: 0.5\n"
     ]
    },
    {
     "data": {
      "image/png": "[encoded data removed]",
      "text/plain": [
       "<Figure size 432x288 with 1 Axes>"
      ]
     },
     "metadata": {
      "needs_background": "light"
     },
     "output_type": "display_data"
    },
    {
     "data": {
      "application/javascript": [
       "\n",
       "            setTimeout(function() {\n",
       "                var nbb_cell_id = 6;\n",
       "                var nbb_unformatted_code = \"# Part (b): Train on y-labels and test on true labels\\n# Make sure to save predicted probabilities to output_path_naive using np.savetxt()\\n\\nx_train, y_train = util.load_dataset(train_path, label_col=\\\"y\\\", add_intercept=True)\\n\\nmodel = LogisticRegression(1.0, max_iter=5000)\\nmodel.fit(x_train, y_train)\\n\\nx_test, y_test = util.load_dataset(test_path, label_col=\\\"t\\\", add_intercept=True)\\n\\nutil.plot(\\n    x_test, y_test, model.theta, save_path=output_path_naive.replace(\\\".txt\\\", \\\".jpg\\\")\\n)\\n\\nnp.savetxt(output_path_naive, model.predict(x_test))\\n\\nprint(f\\\"LogReg acc: {util.compute_accuracy(y_test, model.predict(x_test))}\\\")\";\n",
       "                var nbb_formatted_code = \"# Part (b): Train on y-labels and test on true labels\\n# Make sure to save predicted probabilities to output_path_naive using np.savetxt()\\n\\nx_train, y_train = util.load_dataset(train_path, label_col=\\\"y\\\", add_intercept=True)\\n\\nmodel = LogisticRegression(1.0, max_iter=5000)\\nmodel.fit(x_train, y_train)\\n\\nx_test, y_test = util.load_dataset(test_path, label_col=\\\"t\\\", add_intercept=True)\\n\\nutil.plot(\\n    x_test, y_test, model.theta, save_path=output_path_naive.replace(\\\".txt\\\", \\\".jpg\\\")\\n)\\n\\nnp.savetxt(output_path_naive, model.predict(x_test))\\n\\nprint(f\\\"LogReg acc: {util.compute_accuracy(y_test, model.predict(x_test))}\\\")\";\n",
       "                var nbb_cells = Jupyter.notebook.get_cells();\n",
       "                for (var i = 0; i < nbb_cells.length; ++i) {\n",
       "                    if (nbb_cells[i].input_prompt_number == nbb_cell_id) {\n",
       "                        if (nbb_cells[i].get_text() == nbb_unformatted_code) {\n",
       "                             nbb_cells[i].set_text(nbb_formatted_code);\n",
       "                        }\n",
       "                        break;\n",
       "                    }\n",
       "                }\n",
       "            }, 500);\n",
       "            "
      ],
      "text/plain": [
       "<IPython.core.display.Javascript object>"
      ]
     },
     "metadata": {},
     "output_type": "display_data"
    }
   ],
   "source": [
    "# Part (b): Train on y-labels and test on true labels\n",
    "# Make sure to save predicted probabilities to output_path_naive using np.savetxt()\n",
    "\n",
    "x_train, y_train = util.load_dataset(train_path, label_col=\"y\", add_intercept=True)\n",
    "\n",
    "model = LogisticRegression(1.0, max_iter=5000)\n",
    "model.fit(x_train, y_train)\n",
    "\n",
    "x_test, y_test = util.load_dataset(test_path, label_col=\"t\", add_intercept=True)\n",
    "\n",
    "util.plot(\n",
    "    x_test, y_test, model.theta, save_path=output_path_naive.replace(\".txt\", \".jpg\")\n",
    ")\n",
    "\n",
    "np.savetxt(output_path_naive, model.predict(x_test))\n",
    "\n",
    "print(f\"LogReg acc: {util.compute_accuracy(y_test, model.predict(x_test))}\")"
   ]
  },
  {
   "cell_type": "code",
   "execution_count": 7,
   "metadata": {
    "ExecuteTime": {
     "end_time": "2020-09-10T15:04:38.722401Z",
     "start_time": "2020-09-10T15:04:38.564299Z"
    }
   },
   "outputs": [
    {
     "name": "stdout",
     "output_type": "stream",
     "text": [
      "LogReg acc: 0.9603174603174603\n"
     ]
    },
    {
     "data": {
      "image/png": "[encoded data removed]",
      "text/plain": [
       "<Figure size 432x288 with 1 Axes>"
      ]
     },
     "metadata": {
      "needs_background": "light"
     },
     "output_type": "display_data"
    },
    {
     "data": {
      "application/javascript": [
       "\n",
       "            setTimeout(function() {\n",
       "                var nbb_cell_id = 7;\n",
       "                var nbb_unformatted_code = \"# Part (f): Apply correction factor using validation set and test on true labels\\n# Plot and use np.savetxt to save outputs to output_path_adjusted\\n\\nx_val, y_val = util.load_dataset(valid_path, label_col=\\\"y\\\", add_intercept=True)\\nalpha = model.predict(x_val[y_val == 1]).mean()\\n\\nx_test, y_test = util.load_dataset(test_path, label_col=\\\"t\\\", add_intercept=True)\\n\\nutil.plot(\\n    x_test,\\n    y_test,\\n    model.theta,\\n    save_path=output_path_naive.replace(\\\".txt\\\", \\\".jpg\\\"),\\n    correction=alpha,\\n)\\n\\nyhat = model.predict(x_test) / alpha\\nnp.savetxt(output_path_naive, yhat)\\n\\nprint(f\\\"LogReg acc: {util.compute_accuracy(y_test, yhat)}\\\")\";\n",
       "                var nbb_formatted_code = \"# Part (f): Apply correction factor using validation set and test on true labels\\n# Plot and use np.savetxt to save outputs to output_path_adjusted\\n\\nx_val, y_val = util.load_dataset(valid_path, label_col=\\\"y\\\", add_intercept=True)\\nalpha = model.predict(x_val[y_val == 1]).mean()\\n\\nx_test, y_test = util.load_dataset(test_path, label_col=\\\"t\\\", add_intercept=True)\\n\\nutil.plot(\\n    x_test,\\n    y_test,\\n    model.theta,\\n    save_path=output_path_naive.replace(\\\".txt\\\", \\\".jpg\\\"),\\n    correction=alpha,\\n)\\n\\nyhat = model.predict(x_test) / alpha\\nnp.savetxt(output_path_naive, yhat)\\n\\nprint(f\\\"LogReg acc: {util.compute_accuracy(y_test, yhat)}\\\")\";\n",
       "                var nbb_cells = Jupyter.notebook.get_cells();\n",
       "                for (var i = 0; i < nbb_cells.length; ++i) {\n",
       "                    if (nbb_cells[i].input_prompt_number == nbb_cell_id) {\n",
       "                        if (nbb_cells[i].get_text() == nbb_unformatted_code) {\n",
       "                             nbb_cells[i].set_text(nbb_formatted_code);\n",
       "                        }\n",
       "                        break;\n",
       "                    }\n",
       "                }\n",
       "            }, 500);\n",
       "            "
      ],
      "text/plain": [
       "<IPython.core.display.Javascript object>"
      ]
     },
     "metadata": {},
     "output_type": "display_data"
    }
   ],
   "source": [
    "# Part (f): Apply correction factor using validation set and test on true labels\n",
    "# Plot and use np.savetxt to save outputs to output_path_adjusted\n",
    "\n",
    "x_val, y_val = util.load_dataset(valid_path, label_col=\"y\", add_intercept=True)\n",
    "alpha = model.predict(x_val[y_val == 1]).mean()\n",
    "\n",
    "x_test, y_test = util.load_dataset(test_path, label_col=\"t\", add_intercept=True)\n",
    "\n",
    "util.plot(\n",
    "    x_test,\n",
    "    y_test,\n",
    "    model.theta,\n",
    "    save_path=output_path_naive.replace(\".txt\", \".jpg\"),\n",
    "    correction=alpha,\n",
    ")\n",
    "\n",
    "yhat = model.predict(x_test) / alpha\n",
    "np.savetxt(output_path_naive, yhat)\n",
    "\n",
    "print(f\"LogReg acc: {util.compute_accuracy(y_test, yhat)}\")"
   ]
  }
 ],
 "metadata": {
  "kernelspec": {
   "display_name": "cs229-ps1",
   "language": "python",
   "name": "cs229-ps1"
  },
  "language_info": {
   "codemirror_mode": {
    "name": "ipython",
    "version": 3
   },
   "file_extension": ".py",
   "mimetype": "text/x-python",
   "name": "python",
   "nbconvert_exporter": "python",
   "pygments_lexer": "ipython3",
   "version": "3.6.6"
  },
  "toc": {
   "base_numbering": 1,
   "nav_menu": {},
   "number_sections": true,
   "sideBar": true,
   "skip_h1_title": false,
   "title_cell": "Table of Contents",
   "title_sidebar": "Contents",
   "toc_cell": false,
   "toc_position": {},
   "toc_section_display": true,
   "toc_window_display": false
  }
 },
 "nbformat": 4,
 "nbformat_minor": 4
}
