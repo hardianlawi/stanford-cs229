{
 "cells": [
  {
   "cell_type": "code",
   "execution_count": 1,
   "metadata": {
    "ExecuteTime": {
     "end_time": "2020-10-20T23:15:06.418356Z",
     "start_time": "2020-10-20T23:15:04.398974Z"
    }
   },
   "outputs": [
    {
     "data": {
      "application/javascript": [
       "\n",
       "            setTimeout(function() {\n",
       "                var nbb_cell_id = 1;\n",
       "                var nbb_unformatted_code = \"%load_ext nb_black\\n%load_ext autoreload\\n%autoreload 2\\n\\nimport numpy as np\\nimport matplotlib.pyplot as plt\\n\\n%matplotlib inline\";\n",
       "                var nbb_formatted_code = \"%load_ext nb_black\\n%load_ext autoreload\\n%autoreload 2\\n\\nimport numpy as np\\nimport matplotlib.pyplot as plt\\n\\n%matplotlib inline\";\n",
       "                var nbb_cells = Jupyter.notebook.get_cells();\n",
       "                for (var i = 0; i < nbb_cells.length; ++i) {\n",
       "                    if (nbb_cells[i].input_prompt_number == nbb_cell_id) {\n",
       "                        if (nbb_cells[i].get_text() == nbb_unformatted_code) {\n",
       "                             nbb_cells[i].set_text(nbb_formatted_code);\n",
       "                        }\n",
       "                        break;\n",
       "                    }\n",
       "                }\n",
       "            }, 500);\n",
       "            "
      ],
      "text/plain": [
       "<IPython.core.display.Javascript object>"
      ]
     },
     "metadata": {},
     "output_type": "display_data"
    }
   ],
   "source": [
    "%load_ext nb_black\n",
    "%load_ext autoreload\n",
    "%autoreload 2\n",
    "\n",
    "import numpy as np\n",
    "import matplotlib.pyplot as plt\n",
    "\n",
    "%matplotlib inline"
   ]
  },
  {
   "cell_type": "markdown",
   "metadata": {},
   "source": [
    "# Question 1"
   ]
  },
  {
   "cell_type": "code",
   "execution_count": 2,
   "metadata": {
    "ExecuteTime": {
     "end_time": "2020-10-20T23:15:08.842850Z",
     "start_time": "2020-10-20T23:15:06.420762Z"
    }
   },
   "outputs": [
    {
     "name": "stdout",
     "output_type": "stream",
     "text": [
      "==== Training model on data set A ====\n",
      "Finished 10000 iterations, grad [-4.15154546e-06  4.27822247e-06  4.08456455e-06], theta [-20.81394174  21.45250215  19.85155266]\n",
      "Finished 20000 iterations, grad [-3.06369558e-10  3.15718831e-10  3.01427941e-10], theta [-20.81437785  21.45295156  19.85198173]\n",
      "Finished 30000 iterations, grad [-2.05622084e-14  2.73101064e-14  1.90783804e-14], theta [-20.81437788  21.45295159  19.85198176]\n",
      "Converged in 30374 iterations, theta [-20.81437788  21.45295159  19.85198176]\n",
      "\n",
      "==== Training model on data set B ====\n",
      "Finished 10000 iterations, grad [-0.01939888  0.01935515  0.01946073], theta [-52.74109217  52.92982273  52.69691453]\n",
      "Finished 20000 iterations, grad [-0.01254117  0.01252944  0.01257037], theta [-68.10040977  68.26496086  68.09888223]\n",
      "Finished 30000 iterations, grad [-0.00960445  0.00960554  0.00961981], theta [-79.01759142  79.17745526  79.03755803]\n",
      "Finished 40000 iterations, grad [-0.00790652  0.00791523  0.00791444], theta [-87.70771189  87.87276307  87.73897393]\n",
      "Finished 50000 iterations, grad [-0.00678329  0.00679701  0.00678681], theta [-95.01838735  95.1948202   95.0551918 ]\n",
      "Finished 60000 iterations, grad [-0.00597906  0.00599623  0.00597982], theta [-101.37921493  101.57119731  101.41805781]\n",
      "Finished 70000 iterations, grad [-0.00537193  0.00539155  0.00537089], theta [-107.04156569  107.25200975  107.08020705]\n",
      "Finished 80000 iterations, grad [-0.00489574  0.00491711  0.0048935 ], theta [-112.16638881  112.39737225  112.20335022]\n",
      "Finished 90000 iterations, grad [-0.00451122  0.00453385  0.00450816], theta [-116.86340448  117.11642203  116.89769046]\n"
     ]
    },
    {
     "data": {
      "application/javascript": [
       "\n",
       "            setTimeout(function() {\n",
       "                var nbb_cell_id = 2;\n",
       "                var nbb_unformatted_code = \"from src.stability.stability import logistic_regression\\nfrom src.stability.util import load_csv\\n\\nprint(\\\"==== Training model on data set A ====\\\")\\nXa, Ya = load_csv(\\\"src/stability/ds1_a.csv\\\", add_intercept=True)\\nthetasA = logistic_regression(Xa, Ya)\\n\\nprint(\\\"\\\\n==== Training model on data set B ====\\\")\\nXb, Yb = load_csv(\\\"src/stability/ds1_b.csv\\\", add_intercept=True)\\nthetasB = logistic_regression(Xb, Yb)\";\n",
       "                var nbb_formatted_code = \"from src.stability.stability import logistic_regression\\nfrom src.stability.util import load_csv\\n\\nprint(\\\"==== Training model on data set A ====\\\")\\nXa, Ya = load_csv(\\\"src/stability/ds1_a.csv\\\", add_intercept=True)\\nthetasA = logistic_regression(Xa, Ya)\\n\\nprint(\\\"\\\\n==== Training model on data set B ====\\\")\\nXb, Yb = load_csv(\\\"src/stability/ds1_b.csv\\\", add_intercept=True)\\nthetasB = logistic_regression(Xb, Yb)\";\n",
       "                var nbb_cells = Jupyter.notebook.get_cells();\n",
       "                for (var i = 0; i < nbb_cells.length; ++i) {\n",
       "                    if (nbb_cells[i].input_prompt_number == nbb_cell_id) {\n",
       "                        if (nbb_cells[i].get_text() == nbb_unformatted_code) {\n",
       "                             nbb_cells[i].set_text(nbb_formatted_code);\n",
       "                        }\n",
       "                        break;\n",
       "                    }\n",
       "                }\n",
       "            }, 500);\n",
       "            "
      ],
      "text/plain": [
       "<IPython.core.display.Javascript object>"
      ]
     },
     "metadata": {},
     "output_type": "display_data"
    }
   ],
   "source": [
    "from src.stability.stability import logistic_regression\n",
    "from src.stability.util import load_csv\n",
    "\n",
    "print(\"==== Training model on data set A ====\")\n",
    "Xa, Ya = load_csv(\"src/stability/ds1_a.csv\", add_intercept=True)\n",
    "thetasA = logistic_regression(Xa, Ya)\n",
    "\n",
    "print(\"\\n==== Training model on data set B ====\")\n",
    "Xb, Yb = load_csv(\"src/stability/ds1_b.csv\", add_intercept=True)\n",
    "thetasB = logistic_regression(Xb, Yb)\n"
   ]
  },
  {
   "cell_type": "code",
   "execution_count": 3,
   "metadata": {
    "ExecuteTime": {
     "end_time": "2020-10-20T23:15:09.212682Z",
     "start_time": "2020-10-20T23:15:08.845134Z"
    }
   },
   "outputs": [
    {
     "data": {
      "image/png": "[encoded data removed]",
      "text/plain": [
       "<Figure size 864x288 with 2 Axes>"
      ]
     },
     "metadata": {
      "needs_background": "light"
     },
     "output_type": "display_data"
    },
    {
     "data": {
      "application/javascript": [
       "\n",
       "            setTimeout(function() {\n",
       "                var nbb_cell_id = 3;\n",
       "                var nbb_unformatted_code = \"def plot_decision_boundary(X, thetas, ax):\\n    x1 = X[:, 1]\\n    y = (-thetas[0] - x1 * thetas[1]) / thetas[2]\\n    x1, y = zip(*sorted(zip(x1, y), key=lambda x: x[1]))\\n    ax.plot(x1, y)\\n\\n\\nfig, ax = plt.subplots(ncols=2, figsize=(12, 4))\\n\\nfor label in [0, 1]:\\n    ax[0].plot(Xa[:, 1][Ya == label], Xa[:, 2][Ya == label], \\\"o\\\", label=label)\\nplot_decision_boundary(Xa, thetasA, ax[0])\\n\\nfor label in [0, 1]:\\n    ax[1].plot(Xb[:, 1][Yb == label], Xb[:, 2][Yb == label], \\\"o\\\", label=label)\\nplot_decision_boundary(Xb, thetasB, ax[1])\\n\\nplt.plot()\\nplt.show()\";\n",
       "                var nbb_formatted_code = \"def plot_decision_boundary(X, thetas, ax):\\n    x1 = X[:, 1]\\n    y = (-thetas[0] - x1 * thetas[1]) / thetas[2]\\n    x1, y = zip(*sorted(zip(x1, y), key=lambda x: x[1]))\\n    ax.plot(x1, y)\\n\\n\\nfig, ax = plt.subplots(ncols=2, figsize=(12, 4))\\n\\nfor label in [0, 1]:\\n    ax[0].plot(Xa[:, 1][Ya == label], Xa[:, 2][Ya == label], \\\"o\\\", label=label)\\nplot_decision_boundary(Xa, thetasA, ax[0])\\n\\nfor label in [0, 1]:\\n    ax[1].plot(Xb[:, 1][Yb == label], Xb[:, 2][Yb == label], \\\"o\\\", label=label)\\nplot_decision_boundary(Xb, thetasB, ax[1])\\n\\nplt.plot()\\nplt.show()\";\n",
       "                var nbb_cells = Jupyter.notebook.get_cells();\n",
       "                for (var i = 0; i < nbb_cells.length; ++i) {\n",
       "                    if (nbb_cells[i].input_prompt_number == nbb_cell_id) {\n",
       "                        if (nbb_cells[i].get_text() == nbb_unformatted_code) {\n",
       "                             nbb_cells[i].set_text(nbb_formatted_code);\n",
       "                        }\n",
       "                        break;\n",
       "                    }\n",
       "                }\n",
       "            }, 500);\n",
       "            "
      ],
      "text/plain": [
       "<IPython.core.display.Javascript object>"
      ]
     },
     "metadata": {},
     "output_type": "display_data"
    }
   ],
   "source": [
    "def plot_decision_boundary(X, thetas, ax):\n",
    "    x1 = X[:, 1]\n",
    "    y = (-thetas[0] - x1 * thetas[1]) / thetas[2]\n",
    "    x1, y = zip(*sorted(zip(x1, y), key=lambda x: x[1]))\n",
    "    ax.plot(x1, y)\n",
    "\n",
    "\n",
    "fig, ax = plt.subplots(ncols=2, figsize=(12, 4))\n",
    "\n",
    "for label in [0, 1]:\n",
    "    ax[0].plot(Xa[:, 1][Ya == label], Xa[:, 2][Ya == label], \"o\", label=label)\n",
    "plot_decision_boundary(Xa, thetasA, ax[0])\n",
    "\n",
    "for label in [0, 1]:\n",
    "    ax[1].plot(Xb[:, 1][Yb == label], Xb[:, 2][Yb == label], \"o\", label=label)\n",
    "plot_decision_boundary(Xb, thetasB, ax[1])\n",
    "\n",
    "plt.plot()\n",
    "plt.show()"
   ]
  },
  {
   "cell_type": "markdown",
   "metadata": {},
   "source": [
    "1. Training logistics on dataset B take significantly many more iterations than dataset A\n",
    "2. Dataset B is perfectly linearly separable and thus every gradient step is simply pushing the probability to both 0 and 1. This can be seen from the $\\| \\theta \\|$ (magnitude) that keeps on increasing.\n",
    "3. i. Simply using a different constant learning rate (> 0) will not help because every gradient step would still push the thetas such that p close to 0 or 1.  \n",
    "    ii. As $t \\rightarrow 0$, learning_rate $\\rightarrow 0$, thus this would cause the algorithm to converge.  \n",
    "    iii. Linear scaling will not stop the gradient step to keep pushing the p to 0 or 1.  \n",
    "    iv. This will lead to convergence because now there is a tradeoff between the magnitude of $\\theta$ and the log loss.  \n",
    "    v. Yes, because this will cause the data to be no longer perfectly linearly separable."
   ]
  },
  {
   "cell_type": "markdown",
   "metadata": {},
   "source": [
    "# Question 2"
   ]
  },
  {
   "cell_type": "code",
   "execution_count": 4,
   "metadata": {
    "ExecuteTime": {
     "end_time": "2020-10-20T23:15:09.235134Z",
     "start_time": "2020-10-20T23:15:09.214968Z"
    }
   },
   "outputs": [
    {
     "data": {
      "application/javascript": [
       "\n",
       "            setTimeout(function() {\n",
       "                var nbb_cell_id = 4;\n",
       "                var nbb_unformatted_code = \"import sys\\nsys.path.append('src/spam/')\\n\\nfrom src.spam import util\\nfrom src.spam.spam import *\";\n",
       "                var nbb_formatted_code = \"import sys\\n\\nsys.path.append(\\\"src/spam/\\\")\\n\\nfrom src.spam import util\\nfrom src.spam.spam import *\";\n",
       "                var nbb_cells = Jupyter.notebook.get_cells();\n",
       "                for (var i = 0; i < nbb_cells.length; ++i) {\n",
       "                    if (nbb_cells[i].input_prompt_number == nbb_cell_id) {\n",
       "                        if (nbb_cells[i].get_text() == nbb_unformatted_code) {\n",
       "                             nbb_cells[i].set_text(nbb_formatted_code);\n",
       "                        }\n",
       "                        break;\n",
       "                    }\n",
       "                }\n",
       "            }, 500);\n",
       "            "
      ],
      "text/plain": [
       "<IPython.core.display.Javascript object>"
      ]
     },
     "metadata": {},
     "output_type": "display_data"
    }
   ],
   "source": [
    "import sys\n",
    "\n",
    "sys.path.append(\"src/spam/\")\n",
    "\n",
    "from src.spam import util\n",
    "from src.spam.spam import *"
   ]
  },
  {
   "cell_type": "code",
   "execution_count": 5,
   "metadata": {
    "ExecuteTime": {
     "end_time": "2020-10-20T23:15:09.673641Z",
     "start_time": "2020-10-20T23:15:09.237306Z"
    }
   },
   "outputs": [
    {
     "name": "stdout",
     "output_type": "stream",
     "text": [
      "Size of dictionary:  1722\n",
      "Naive Bayes had an accuracy of 0.982078853046595 on the testing set\n"
     ]
    },
    {
     "data": {
      "application/javascript": [
       "\n",
       "            setTimeout(function() {\n",
       "                var nbb_cell_id = 5;\n",
       "                var nbb_unformatted_code = \"train_messages, train_labels = util.load_spam_dataset(\\\"src/spam/spam_train.tsv\\\")\\nval_messages, val_labels = util.load_spam_dataset(\\\"src/spam/spam_val.tsv\\\")\\ntest_messages, test_labels = util.load_spam_dataset(\\\"src/spam/spam_test.tsv\\\")\\n\\ndictionary = create_dictionary(train_messages)\\n\\nprint(\\\"Size of dictionary: \\\", len(dictionary))\\n\\nutil.write_json(\\\"spam_dictionary\\\", dictionary)\\n\\ntrain_matrix = transform_text(train_messages, dictionary)\\n\\nnp.savetxt(\\\"spam_sample_train_matrix\\\", train_matrix[:100, :])\\n\\nval_matrix = transform_text(val_messages, dictionary)\\ntest_matrix = transform_text(test_messages, dictionary)\\n\\nnaive_bayes_model = fit_naive_bayes_model(train_matrix, train_labels)\\n\\nnaive_bayes_predictions = predict_from_naive_bayes_model(\\n    naive_bayes_model, test_matrix\\n)\\n\\nnp.savetxt(\\\"spam_naive_bayes_predictions\\\", naive_bayes_predictions)\\n\\nnaive_bayes_accuracy = np.mean(naive_bayes_predictions == test_labels)\\n\\nprint(\\n    \\\"Naive Bayes had an accuracy of {} on the testing set\\\".format(\\n        naive_bayes_accuracy\\n    )\\n)\";\n",
       "                var nbb_formatted_code = \"train_messages, train_labels = util.load_spam_dataset(\\\"src/spam/spam_train.tsv\\\")\\nval_messages, val_labels = util.load_spam_dataset(\\\"src/spam/spam_val.tsv\\\")\\ntest_messages, test_labels = util.load_spam_dataset(\\\"src/spam/spam_test.tsv\\\")\\n\\ndictionary = create_dictionary(train_messages)\\n\\nprint(\\\"Size of dictionary: \\\", len(dictionary))\\n\\nutil.write_json(\\\"spam_dictionary\\\", dictionary)\\n\\ntrain_matrix = transform_text(train_messages, dictionary)\\n\\nnp.savetxt(\\\"spam_sample_train_matrix\\\", train_matrix[:100, :])\\n\\nval_matrix = transform_text(val_messages, dictionary)\\ntest_matrix = transform_text(test_messages, dictionary)\\n\\nnaive_bayes_model = fit_naive_bayes_model(train_matrix, train_labels)\\n\\nnaive_bayes_predictions = predict_from_naive_bayes_model(naive_bayes_model, test_matrix)\\n\\nnp.savetxt(\\\"spam_naive_bayes_predictions\\\", naive_bayes_predictions)\\n\\nnaive_bayes_accuracy = np.mean(naive_bayes_predictions == test_labels)\\n\\nprint(\\n    \\\"Naive Bayes had an accuracy of {} on the testing set\\\".format(naive_bayes_accuracy)\\n)\";\n",
       "                var nbb_cells = Jupyter.notebook.get_cells();\n",
       "                for (var i = 0; i < nbb_cells.length; ++i) {\n",
       "                    if (nbb_cells[i].input_prompt_number == nbb_cell_id) {\n",
       "                        if (nbb_cells[i].get_text() == nbb_unformatted_code) {\n",
       "                             nbb_cells[i].set_text(nbb_formatted_code);\n",
       "                        }\n",
       "                        break;\n",
       "                    }\n",
       "                }\n",
       "            }, 500);\n",
       "            "
      ],
      "text/plain": [
       "<IPython.core.display.Javascript object>"
      ]
     },
     "metadata": {},
     "output_type": "display_data"
    }
   ],
   "source": [
    "train_messages, train_labels = util.load_spam_dataset(\"src/spam/spam_train.tsv\")\n",
    "val_messages, val_labels = util.load_spam_dataset(\"src/spam/spam_val.tsv\")\n",
    "test_messages, test_labels = util.load_spam_dataset(\"src/spam/spam_test.tsv\")\n",
    "\n",
    "dictionary = create_dictionary(train_messages)\n",
    "\n",
    "print(\"Size of dictionary: \", len(dictionary))\n",
    "\n",
    "util.write_json(\"spam_dictionary\", dictionary)\n",
    "\n",
    "train_matrix = transform_text(train_messages, dictionary)\n",
    "\n",
    "np.savetxt(\"spam_sample_train_matrix\", train_matrix[:100, :])\n",
    "\n",
    "val_matrix = transform_text(val_messages, dictionary)\n",
    "test_matrix = transform_text(test_messages, dictionary)\n",
    "\n",
    "naive_bayes_model = fit_naive_bayes_model(train_matrix, train_labels)\n",
    "\n",
    "naive_bayes_predictions = predict_from_naive_bayes_model(naive_bayes_model, test_matrix)\n",
    "\n",
    "np.savetxt(\"spam_naive_bayes_predictions\", naive_bayes_predictions)\n",
    "\n",
    "naive_bayes_accuracy = np.mean(naive_bayes_predictions == test_labels)\n",
    "\n",
    "print(\n",
    "    \"Naive Bayes had an accuracy of {} on the testing set\".format(naive_bayes_accuracy)\n",
    ")"
   ]
  },
  {
   "cell_type": "code",
   "execution_count": 6,
   "metadata": {
    "ExecuteTime": {
     "end_time": "2020-10-20T23:15:09.704568Z",
     "start_time": "2020-10-20T23:15:09.676205Z"
    }
   },
   "outputs": [
    {
     "name": "stdout",
     "output_type": "stream",
     "text": [
      "The top 5 indicative words for Naive Bayes are:  ['urgent!', 'tone', 'prize', 'won', 'claim']\n"
     ]
    },
    {
     "data": {
      "application/javascript": [
       "\n",
       "            setTimeout(function() {\n",
       "                var nbb_cell_id = 6;\n",
       "                var nbb_unformatted_code = \"top_5_words = get_top_five_naive_bayes_words(naive_bayes_model, dictionary)\\n\\nprint(\\\"The top 5 indicative words for Naive Bayes are: \\\", top_5_words)\\n\\nutil.write_json(\\\"spam_top_indicative_words\\\", top_5_words)\";\n",
       "                var nbb_formatted_code = \"top_5_words = get_top_five_naive_bayes_words(naive_bayes_model, dictionary)\\n\\nprint(\\\"The top 5 indicative words for Naive Bayes are: \\\", top_5_words)\\n\\nutil.write_json(\\\"spam_top_indicative_words\\\", top_5_words)\";\n",
       "                var nbb_cells = Jupyter.notebook.get_cells();\n",
       "                for (var i = 0; i < nbb_cells.length; ++i) {\n",
       "                    if (nbb_cells[i].input_prompt_number == nbb_cell_id) {\n",
       "                        if (nbb_cells[i].get_text() == nbb_unformatted_code) {\n",
       "                             nbb_cells[i].set_text(nbb_formatted_code);\n",
       "                        }\n",
       "                        break;\n",
       "                    }\n",
       "                }\n",
       "            }, 500);\n",
       "            "
      ],
      "text/plain": [
       "<IPython.core.display.Javascript object>"
      ]
     },
     "metadata": {},
     "output_type": "display_data"
    }
   ],
   "source": [
    "top_5_words = get_top_five_naive_bayes_words(naive_bayes_model, dictionary)\n",
    "\n",
    "print(\"The top 5 indicative words for Naive Bayes are: \", top_5_words)\n",
    "\n",
    "util.write_json(\"spam_top_indicative_words\", top_5_words)"
   ]
  },
  {
   "cell_type": "code",
   "execution_count": 7,
   "metadata": {
    "ExecuteTime": {
     "end_time": "2020-10-20T23:15:46.373125Z",
     "start_time": "2020-10-20T23:15:09.707026Z"
    }
   },
   "outputs": [
    {
     "name": "stdout",
     "output_type": "stream",
     "text": [
      "The optimal SVM radius was 0.1\n"
     ]
    },
    {
     "data": {
      "application/javascript": [
       "\n",
       "            setTimeout(function() {\n",
       "                var nbb_cell_id = 7;\n",
       "                var nbb_unformatted_code = \"optimal_radius = compute_best_svm_radius(\\n    train_matrix, train_labels, val_matrix, val_labels, [0.01, 0.1, 1, 10]\\n)\\n\\nutil.write_json(\\\"spam_optimal_radius\\\", optimal_radius)\\n\\nprint(\\\"The optimal SVM radius was {}\\\".format(optimal_radius))\";\n",
       "                var nbb_formatted_code = \"optimal_radius = compute_best_svm_radius(\\n    train_matrix, train_labels, val_matrix, val_labels, [0.01, 0.1, 1, 10]\\n)\\n\\nutil.write_json(\\\"spam_optimal_radius\\\", optimal_radius)\\n\\nprint(\\\"The optimal SVM radius was {}\\\".format(optimal_radius))\";\n",
       "                var nbb_cells = Jupyter.notebook.get_cells();\n",
       "                for (var i = 0; i < nbb_cells.length; ++i) {\n",
       "                    if (nbb_cells[i].input_prompt_number == nbb_cell_id) {\n",
       "                        if (nbb_cells[i].get_text() == nbb_unformatted_code) {\n",
       "                             nbb_cells[i].set_text(nbb_formatted_code);\n",
       "                        }\n",
       "                        break;\n",
       "                    }\n",
       "                }\n",
       "            }, 500);\n",
       "            "
      ],
      "text/plain": [
       "<IPython.core.display.Javascript object>"
      ]
     },
     "metadata": {},
     "output_type": "display_data"
    }
   ],
   "source": [
    "optimal_radius = compute_best_svm_radius(\n",
    "    train_matrix, train_labels, val_matrix, val_labels, [0.01, 0.1, 1, 10]\n",
    ")\n",
    "\n",
    "util.write_json(\"spam_optimal_radius\", optimal_radius)\n",
    "\n",
    "print(\"The optimal SVM radius was {}\".format(optimal_radius))"
   ]
  },
  {
   "cell_type": "code",
   "execution_count": 8,
   "metadata": {
    "ExecuteTime": {
     "end_time": "2020-10-20T23:15:56.573658Z",
     "start_time": "2020-10-20T23:15:46.376151Z"
    }
   },
   "outputs": [
    {
     "name": "stdout",
     "output_type": "stream",
     "text": [
      "The SVM model had an accuracy of 0.9695340501792115 on the testing set\n"
     ]
    },
    {
     "data": {
      "application/javascript": [
       "\n",
       "            setTimeout(function() {\n",
       "                var nbb_cell_id = 8;\n",
       "                var nbb_unformatted_code = \"svm_predictions = svm.train_and_predict_svm(\\n    train_matrix, train_labels, test_matrix, optimal_radius\\n)\\n\\nsvm_accuracy = np.mean(svm_predictions == test_labels)\\n\\nprint(\\\"The SVM model had an accuracy of {} on the testing set\\\".format(svm_accuracy))\";\n",
       "                var nbb_formatted_code = \"svm_predictions = svm.train_and_predict_svm(\\n    train_matrix, train_labels, test_matrix, optimal_radius\\n)\\n\\nsvm_accuracy = np.mean(svm_predictions == test_labels)\\n\\nprint(\\\"The SVM model had an accuracy of {} on the testing set\\\".format(svm_accuracy))\";\n",
       "                var nbb_cells = Jupyter.notebook.get_cells();\n",
       "                for (var i = 0; i < nbb_cells.length; ++i) {\n",
       "                    if (nbb_cells[i].input_prompt_number == nbb_cell_id) {\n",
       "                        if (nbb_cells[i].get_text() == nbb_unformatted_code) {\n",
       "                             nbb_cells[i].set_text(nbb_formatted_code);\n",
       "                        }\n",
       "                        break;\n",
       "                    }\n",
       "                }\n",
       "            }, 500);\n",
       "            "
      ],
      "text/plain": [
       "<IPython.core.display.Javascript object>"
      ]
     },
     "metadata": {},
     "output_type": "display_data"
    }
   ],
   "source": [
    "svm_predictions = svm.train_and_predict_svm(\n",
    "    train_matrix, train_labels, test_matrix, optimal_radius\n",
    ")\n",
    "\n",
    "svm_accuracy = np.mean(svm_predictions == test_labels)\n",
    "\n",
    "print(\"The SVM model had an accuracy of {} on the testing set\".format(svm_accuracy))"
   ]
  },
  {
   "cell_type": "markdown",
   "metadata": {},
   "source": [
    "# Question 3"
   ]
  },
  {
   "cell_type": "markdown",
   "metadata": {},
   "source": [
    "![3a](answers/3a.png)"
   ]
  },
  {
   "cell_type": "markdown",
   "metadata": {},
   "source": [
    "![3b](answers/3b.png)"
   ]
  },
  {
   "cell_type": "markdown",
   "metadata": {},
   "source": [
    "![3c](answers/3c.png)"
   ]
  },
  {
   "cell_type": "markdown",
   "metadata": {},
   "source": [
    "![3d](answers/3d.png)"
   ]
  },
  {
   "cell_type": "markdown",
   "metadata": {},
   "source": [
    "![3e](answers/3e.png)\n",
    "\n",
    "- https://stats.stackexchange.com/questions/48509/proof-of-closeness-of-kernel-functions-under-pointwise-product/50289\n",
    "- https://www.quora.com/How-do-I-formally-proof-the-product-of-two-kernels-is-a-kernel-If-K1-x-x1-and-K2-x-x2-are-both-kernel-function-then-K1-x-x1-K2-x-x2-is-also-a-kernel"
   ]
  },
  {
   "cell_type": "markdown",
   "metadata": {},
   "source": [
    "![3f](answers/3f.png)"
   ]
  },
  {
   "cell_type": "markdown",
   "metadata": {},
   "source": [
    "![3g](answers/3g.png)"
   ]
  },
  {
   "cell_type": "markdown",
   "metadata": {},
   "source": [
    "![3h](answers/3h.png)"
   ]
  },
  {
   "cell_type": "markdown",
   "metadata": {},
   "source": [
    "# Question 4"
   ]
  },
  {
   "cell_type": "code",
   "execution_count": null,
   "metadata": {},
   "outputs": [],
   "source": []
  }
 ],
 "metadata": {
  "kernelspec": {
   "display_name": "cs229",
   "language": "python",
   "name": "cs229"
  },
  "language_info": {
   "codemirror_mode": {
    "name": "ipython",
    "version": 3
   },
   "file_extension": ".py",
   "mimetype": "text/x-python",
   "name": "python",
   "nbconvert_exporter": "python",
   "pygments_lexer": "ipython3",
   "version": "3.7.9"
  },
  "toc": {
   "base_numbering": 1,
   "nav_menu": {},
   "number_sections": true,
   "sideBar": true,
   "skip_h1_title": false,
   "title_cell": "Table of Contents",
   "title_sidebar": "Contents",
   "toc_cell": false,
   "toc_position": {},
   "toc_section_display": true,
   "toc_window_display": false
  }
 },
 "nbformat": 4,
 "nbformat_minor": 4
}
