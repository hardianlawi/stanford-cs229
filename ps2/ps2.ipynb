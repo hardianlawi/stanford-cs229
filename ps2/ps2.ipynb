{
 "cells": [
  {
   "cell_type": "code",
   "execution_count": 1,
   "metadata": {
    "ExecuteTime": {
     "end_time": "2020-11-08T09:27:58.589466Z",
     "start_time": "2020-11-08T09:27:58.135462Z"
    }
   },
   "outputs": [
    {
     "data": {
      "application/javascript": [
       "\n",
       "            setTimeout(function() {\n",
       "                var nbb_cell_id = 1;\n",
       "                var nbb_unformatted_code = \"%load_ext nb_black\\n%load_ext autoreload\\n%autoreload 2\\n\\nimport numpy as np\\nimport matplotlib.pyplot as plt\\n\\n%matplotlib inline\";\n",
       "                var nbb_formatted_code = \"%load_ext nb_black\\n%load_ext autoreload\\n%autoreload 2\\n\\nimport numpy as np\\nimport matplotlib.pyplot as plt\\n\\n%matplotlib inline\";\n",
       "                var nbb_cells = Jupyter.notebook.get_cells();\n",
       "                for (var i = 0; i < nbb_cells.length; ++i) {\n",
       "                    if (nbb_cells[i].input_prompt_number == nbb_cell_id) {\n",
       "                        if (nbb_cells[i].get_text() == nbb_unformatted_code) {\n",
       "                             nbb_cells[i].set_text(nbb_formatted_code);\n",
       "                        }\n",
       "                        break;\n",
       "                    }\n",
       "                }\n",
       "            }, 500);\n",
       "            "
      ],
      "text/plain": [
       "<IPython.core.display.Javascript object>"
      ]
     },
     "metadata": {},
     "output_type": "display_data"
    }
   ],
   "source": [
    "%load_ext nb_black\n",
    "%load_ext autoreload\n",
    "%autoreload 2\n",
    "\n",
    "import numpy as np\n",
    "import matplotlib.pyplot as plt\n",
    "\n",
    "%matplotlib inline"
   ]
  },
  {
   "cell_type": "markdown",
   "metadata": {},
   "source": [
    "# Question 1"
   ]
  },
  {
   "cell_type": "code",
   "execution_count": 2,
   "metadata": {
    "ExecuteTime": {
     "end_time": "2020-11-08T09:28:00.714149Z",
     "start_time": "2020-11-08T09:27:58.591363Z"
    }
   },
   "outputs": [
    {
     "name": "stdout",
     "output_type": "stream",
     "text": [
      "==== Training model on data set A ====\n",
      "Finished 10000 iterations, grad [-4.15154546e-06  4.27822247e-06  4.08456455e-06], theta [-20.81394174  21.45250215  19.85155266]\n",
      "Finished 20000 iterations, grad [-3.06369558e-10  3.15718831e-10  3.01427941e-10], theta [-20.81437785  21.45295156  19.85198173]\n",
      "Finished 30000 iterations, grad [-2.05622084e-14  2.73101064e-14  1.90783804e-14], theta [-20.81437788  21.45295159  19.85198176]\n",
      "Converged in 30374 iterations, theta [-20.81437788  21.45295159  19.85198176]\n",
      "\n",
      "==== Training model on data set B ====\n",
      "Finished 10000 iterations, grad [-0.01939888  0.01935515  0.01946073], theta [-52.74109217  52.92982273  52.69691453]\n",
      "Finished 20000 iterations, grad [-0.01254117  0.01252944  0.01257037], theta [-68.10040977  68.26496086  68.09888223]\n",
      "Finished 30000 iterations, grad [-0.00960445  0.00960554  0.00961981], theta [-79.01759142  79.17745526  79.03755803]\n",
      "Finished 40000 iterations, grad [-0.00790652  0.00791523  0.00791444], theta [-87.70771189  87.87276307  87.73897393]\n",
      "Finished 50000 iterations, grad [-0.00678329  0.00679701  0.00678681], theta [-95.01838735  95.1948202   95.0551918 ]\n",
      "Finished 60000 iterations, grad [-0.00597906  0.00599623  0.00597982], theta [-101.37921493  101.57119731  101.41805781]\n",
      "Finished 70000 iterations, grad [-0.00537193  0.00539155  0.00537089], theta [-107.04156569  107.25200975  107.08020705]\n",
      "Finished 80000 iterations, grad [-0.00489574  0.00491711  0.0048935 ], theta [-112.16638881  112.39737225  112.20335022]\n",
      "Finished 90000 iterations, grad [-0.00451122  0.00453385  0.00450816], theta [-116.86340448  117.11642203  116.89769046]\n"
     ]
    },
    {
     "data": {
      "application/javascript": [
       "\n",
       "            setTimeout(function() {\n",
       "                var nbb_cell_id = 2;\n",
       "                var nbb_unformatted_code = \"from src.stability.stability import logistic_regression\\nfrom src.stability.util import load_csv\\n\\nprint(\\\"==== Training model on data set A ====\\\")\\nXa, Ya = load_csv(\\\"src/stability/ds1_a.csv\\\", add_intercept=True)\\nthetasA = logistic_regression(Xa, Ya)\\n\\nprint(\\\"\\\\n==== Training model on data set B ====\\\")\\nXb, Yb = load_csv(\\\"src/stability/ds1_b.csv\\\", add_intercept=True)\\nthetasB = logistic_regression(Xb, Yb)\";\n",
       "                var nbb_formatted_code = \"from src.stability.stability import logistic_regression\\nfrom src.stability.util import load_csv\\n\\nprint(\\\"==== Training model on data set A ====\\\")\\nXa, Ya = load_csv(\\\"src/stability/ds1_a.csv\\\", add_intercept=True)\\nthetasA = logistic_regression(Xa, Ya)\\n\\nprint(\\\"\\\\n==== Training model on data set B ====\\\")\\nXb, Yb = load_csv(\\\"src/stability/ds1_b.csv\\\", add_intercept=True)\\nthetasB = logistic_regression(Xb, Yb)\";\n",
       "                var nbb_cells = Jupyter.notebook.get_cells();\n",
       "                for (var i = 0; i < nbb_cells.length; ++i) {\n",
       "                    if (nbb_cells[i].input_prompt_number == nbb_cell_id) {\n",
       "                        if (nbb_cells[i].get_text() == nbb_unformatted_code) {\n",
       "                             nbb_cells[i].set_text(nbb_formatted_code);\n",
       "                        }\n",
       "                        break;\n",
       "                    }\n",
       "                }\n",
       "            }, 500);\n",
       "            "
      ],
      "text/plain": [
       "<IPython.core.display.Javascript object>"
      ]
     },
     "metadata": {},
     "output_type": "display_data"
    }
   ],
   "source": [
    "from src.stability.stability import logistic_regression\n",
    "from src.stability.util import load_csv\n",
    "\n",
    "print(\"==== Training model on data set A ====\")\n",
    "Xa, Ya = load_csv(\"src/stability/ds1_a.csv\", add_intercept=True)\n",
    "thetasA = logistic_regression(Xa, Ya)\n",
    "\n",
    "print(\"\\n==== Training model on data set B ====\")\n",
    "Xb, Yb = load_csv(\"src/stability/ds1_b.csv\", add_intercept=True)\n",
    "thetasB = logistic_regression(Xb, Yb)\n"
   ]
  },
  {
   "cell_type": "code",
   "execution_count": 3,
   "metadata": {
    "ExecuteTime": {
     "end_time": "2020-11-08T09:28:00.963995Z",
     "start_time": "2020-11-08T09:28:00.716127Z"
    }
   },
   "outputs": [
    {
     "data": {
      "image/png": "[encoded data removed]",
      "text/plain": [
       "<Figure size 864x288 with 2 Axes>"
      ]
     },
     "metadata": {
      "needs_background": "light"
     },
     "output_type": "display_data"
    },
    {
     "data": {
      "application/javascript": [
       "\n",
       "            setTimeout(function() {\n",
       "                var nbb_cell_id = 3;\n",
       "                var nbb_unformatted_code = \"def plot_decision_boundary(X, thetas, ax):\\n    x1 = X[:, 1]\\n    y = (-thetas[0] - x1 * thetas[1]) / thetas[2]\\n    x1, y = zip(*sorted(zip(x1, y), key=lambda x: x[1]))\\n    ax.plot(x1, y)\\n\\n\\nfig, ax = plt.subplots(ncols=2, figsize=(12, 4))\\n\\nfor label in [0, 1]:\\n    ax[0].plot(Xa[:, 1][Ya == label], Xa[:, 2][Ya == label], \\\"o\\\", label=label)\\nplot_decision_boundary(Xa, thetasA, ax[0])\\n\\nfor label in [0, 1]:\\n    ax[1].plot(Xb[:, 1][Yb == label], Xb[:, 2][Yb == label], \\\"o\\\", label=label)\\nplot_decision_boundary(Xb, thetasB, ax[1])\\n\\nplt.plot()\\nplt.show()\";\n",
       "                var nbb_formatted_code = \"def plot_decision_boundary(X, thetas, ax):\\n    x1 = X[:, 1]\\n    y = (-thetas[0] - x1 * thetas[1]) / thetas[2]\\n    x1, y = zip(*sorted(zip(x1, y), key=lambda x: x[1]))\\n    ax.plot(x1, y)\\n\\n\\nfig, ax = plt.subplots(ncols=2, figsize=(12, 4))\\n\\nfor label in [0, 1]:\\n    ax[0].plot(Xa[:, 1][Ya == label], Xa[:, 2][Ya == label], \\\"o\\\", label=label)\\nplot_decision_boundary(Xa, thetasA, ax[0])\\n\\nfor label in [0, 1]:\\n    ax[1].plot(Xb[:, 1][Yb == label], Xb[:, 2][Yb == label], \\\"o\\\", label=label)\\nplot_decision_boundary(Xb, thetasB, ax[1])\\n\\nplt.plot()\\nplt.show()\";\n",
       "                var nbb_cells = Jupyter.notebook.get_cells();\n",
       "                for (var i = 0; i < nbb_cells.length; ++i) {\n",
       "                    if (nbb_cells[i].input_prompt_number == nbb_cell_id) {\n",
       "                        if (nbb_cells[i].get_text() == nbb_unformatted_code) {\n",
       "                             nbb_cells[i].set_text(nbb_formatted_code);\n",
       "                        }\n",
       "                        break;\n",
       "                    }\n",
       "                }\n",
       "            }, 500);\n",
       "            "
      ],
      "text/plain": [
       "<IPython.core.display.Javascript object>"
      ]
     },
     "metadata": {},
     "output_type": "display_data"
    }
   ],
   "source": [
    "def plot_decision_boundary(X, thetas, ax):\n",
    "    x1 = X[:, 1]\n",
    "    y = (-thetas[0] - x1 * thetas[1]) / thetas[2]\n",
    "    x1, y = zip(*sorted(zip(x1, y), key=lambda x: x[1]))\n",
    "    ax.plot(x1, y)\n",
    "\n",
    "\n",
    "fig, ax = plt.subplots(ncols=2, figsize=(12, 4))\n",
    "\n",
    "for label in [0, 1]:\n",
    "    ax[0].plot(Xa[:, 1][Ya == label], Xa[:, 2][Ya == label], \"o\", label=label)\n",
    "plot_decision_boundary(Xa, thetasA, ax[0])\n",
    "\n",
    "for label in [0, 1]:\n",
    "    ax[1].plot(Xb[:, 1][Yb == label], Xb[:, 2][Yb == label], \"o\", label=label)\n",
    "plot_decision_boundary(Xb, thetasB, ax[1])\n",
    "\n",
    "plt.plot()\n",
    "plt.show()"
   ]
  },
  {
   "cell_type": "markdown",
   "metadata": {},
   "source": [
    "1. Training logistics on dataset B take significantly many more iterations than dataset A\n",
    "2. Dataset B is perfectly linearly separable. Therefore, after a few iterations, we would observe $|\\theta^T x^{(i)}| >= 0$ for all examples. This means that the solution that the gradient descent would be searching for is simply $\\theta$ that push the probability to both 0 and 1 as much as possible i.e. to drive the loss to 0 and this can been from $|\\theta|$ that keeps on increasing.\n",
    "3. i. Simply using a different constant learning rate (> 0) will not help because every gradient step would still push the thetas such that p close to 0 or 1.  \n",
    "    ii. As $t \\rightarrow \\infty$, learning_rate $\\rightarrow 0$, thus this would cause the algorithm to converge.  \n",
    "    iii. Linear scaling will not stop the gradient step to keep pushing the p to 0 or 1.  \n",
    "    iv. This will lead to convergence because now there is a tradeoff between the magnitude of $\\theta$ and the log loss.  \n",
    "    v. Yes, because this will cause the data to be no longer perfectly linearly separable although not in all cases."
   ]
  },
  {
   "cell_type": "markdown",
   "metadata": {},
   "source": [
    "# Question 2"
   ]
  },
  {
   "cell_type": "code",
   "execution_count": 4,
   "metadata": {
    "ExecuteTime": {
     "end_time": "2020-11-08T09:28:00.980009Z",
     "start_time": "2020-11-08T09:28:00.965902Z"
    }
   },
   "outputs": [
    {
     "data": {
      "application/javascript": [
       "\n",
       "            setTimeout(function() {\n",
       "                var nbb_cell_id = 4;\n",
       "                var nbb_unformatted_code = \"from src.spam.util import *\\nfrom src.spam.spam import *\";\n",
       "                var nbb_formatted_code = \"from src.spam.util import *\\nfrom src.spam.spam import *\";\n",
       "                var nbb_cells = Jupyter.notebook.get_cells();\n",
       "                for (var i = 0; i < nbb_cells.length; ++i) {\n",
       "                    if (nbb_cells[i].input_prompt_number == nbb_cell_id) {\n",
       "                        if (nbb_cells[i].get_text() == nbb_unformatted_code) {\n",
       "                             nbb_cells[i].set_text(nbb_formatted_code);\n",
       "                        }\n",
       "                        break;\n",
       "                    }\n",
       "                }\n",
       "            }, 500);\n",
       "            "
      ],
      "text/plain": [
       "<IPython.core.display.Javascript object>"
      ]
     },
     "metadata": {},
     "output_type": "display_data"
    }
   ],
   "source": [
    "from src.spam.util import *\n",
    "from src.spam.spam import *"
   ]
  },
  {
   "cell_type": "code",
   "execution_count": 5,
   "metadata": {
    "ExecuteTime": {
     "end_time": "2020-11-08T09:28:01.304567Z",
     "start_time": "2020-11-08T09:28:00.981853Z"
    }
   },
   "outputs": [
    {
     "name": "stdout",
     "output_type": "stream",
     "text": [
      "Size of dictionary:  1722\n",
      "Naive Bayes had an accuracy of 0.982078853046595 on the testing set\n"
     ]
    },
    {
     "data": {
      "application/javascript": [
       "\n",
       "            setTimeout(function() {\n",
       "                var nbb_cell_id = 5;\n",
       "                var nbb_unformatted_code = \"train_messages, train_labels = load_spam_dataset(\\\"src/spam/spam_train.tsv\\\")\\nval_messages, val_labels = load_spam_dataset(\\\"src/spam/spam_val.tsv\\\")\\ntest_messages, test_labels = load_spam_dataset(\\\"src/spam/spam_test.tsv\\\")\\n\\ndictionary = create_dictionary(train_messages)\\n\\nprint(\\\"Size of dictionary: \\\", len(dictionary))\\n\\nwrite_json(\\\"spam_dictionary\\\", dictionary)\\n\\ntrain_matrix = transform_text(train_messages, dictionary)\\n\\nnp.savetxt(\\\"spam_sample_train_matrix\\\", train_matrix[:100, :])\\n\\nval_matrix = transform_text(val_messages, dictionary)\\ntest_matrix = transform_text(test_messages, dictionary)\\n\\nnaive_bayes_model = fit_naive_bayes_model(train_matrix, train_labels)\\n\\nnaive_bayes_predictions = predict_from_naive_bayes_model(naive_bayes_model, test_matrix)\\n\\nnp.savetxt(\\\"spam_naive_bayes_predictions\\\", naive_bayes_predictions)\\n\\nnaive_bayes_accuracy = np.mean(naive_bayes_predictions == test_labels)\\n\\nprint(\\n    \\\"Naive Bayes had an accuracy of {} on the testing set\\\".format(naive_bayes_accuracy)\\n)\";\n",
       "                var nbb_formatted_code = \"train_messages, train_labels = load_spam_dataset(\\\"src/spam/spam_train.tsv\\\")\\nval_messages, val_labels = load_spam_dataset(\\\"src/spam/spam_val.tsv\\\")\\ntest_messages, test_labels = load_spam_dataset(\\\"src/spam/spam_test.tsv\\\")\\n\\ndictionary = create_dictionary(train_messages)\\n\\nprint(\\\"Size of dictionary: \\\", len(dictionary))\\n\\nwrite_json(\\\"spam_dictionary\\\", dictionary)\\n\\ntrain_matrix = transform_text(train_messages, dictionary)\\n\\nnp.savetxt(\\\"spam_sample_train_matrix\\\", train_matrix[:100, :])\\n\\nval_matrix = transform_text(val_messages, dictionary)\\ntest_matrix = transform_text(test_messages, dictionary)\\n\\nnaive_bayes_model = fit_naive_bayes_model(train_matrix, train_labels)\\n\\nnaive_bayes_predictions = predict_from_naive_bayes_model(naive_bayes_model, test_matrix)\\n\\nnp.savetxt(\\\"spam_naive_bayes_predictions\\\", naive_bayes_predictions)\\n\\nnaive_bayes_accuracy = np.mean(naive_bayes_predictions == test_labels)\\n\\nprint(\\n    \\\"Naive Bayes had an accuracy of {} on the testing set\\\".format(naive_bayes_accuracy)\\n)\";\n",
       "                var nbb_cells = Jupyter.notebook.get_cells();\n",
       "                for (var i = 0; i < nbb_cells.length; ++i) {\n",
       "                    if (nbb_cells[i].input_prompt_number == nbb_cell_id) {\n",
       "                        if (nbb_cells[i].get_text() == nbb_unformatted_code) {\n",
       "                             nbb_cells[i].set_text(nbb_formatted_code);\n",
       "                        }\n",
       "                        break;\n",
       "                    }\n",
       "                }\n",
       "            }, 500);\n",
       "            "
      ],
      "text/plain": [
       "<IPython.core.display.Javascript object>"
      ]
     },
     "metadata": {},
     "output_type": "display_data"
    }
   ],
   "source": [
    "train_messages, train_labels = load_spam_dataset(\"src/spam/spam_train.tsv\")\n",
    "val_messages, val_labels = load_spam_dataset(\"src/spam/spam_val.tsv\")\n",
    "test_messages, test_labels = load_spam_dataset(\"src/spam/spam_test.tsv\")\n",
    "\n",
    "dictionary = create_dictionary(train_messages)\n",
    "\n",
    "print(\"Size of dictionary: \", len(dictionary))\n",
    "\n",
    "write_json(\"spam_dictionary\", dictionary)\n",
    "\n",
    "train_matrix = transform_text(train_messages, dictionary)\n",
    "\n",
    "np.savetxt(\"spam_sample_train_matrix\", train_matrix[:100, :])\n",
    "\n",
    "val_matrix = transform_text(val_messages, dictionary)\n",
    "test_matrix = transform_text(test_messages, dictionary)\n",
    "\n",
    "naive_bayes_model = fit_naive_bayes_model(train_matrix, train_labels)\n",
    "\n",
    "naive_bayes_predictions = predict_from_naive_bayes_model(naive_bayes_model, test_matrix)\n",
    "\n",
    "np.savetxt(\"spam_naive_bayes_predictions\", naive_bayes_predictions)\n",
    "\n",
    "naive_bayes_accuracy = np.mean(naive_bayes_predictions == test_labels)\n",
    "\n",
    "print(\n",
    "    \"Naive Bayes had an accuracy of {} on the testing set\".format(naive_bayes_accuracy)\n",
    ")"
   ]
  },
  {
   "cell_type": "code",
   "execution_count": 6,
   "metadata": {
    "ExecuteTime": {
     "end_time": "2020-11-08T09:28:01.333581Z",
     "start_time": "2020-11-08T09:28:01.307152Z"
    }
   },
   "outputs": [
    {
     "name": "stdout",
     "output_type": "stream",
     "text": [
      "The top 5 indicative words for Naive Bayes are:  ['urgent!', 'tone', 'prize', 'won', 'claim']\n"
     ]
    },
    {
     "data": {
      "application/javascript": [
       "\n",
       "            setTimeout(function() {\n",
       "                var nbb_cell_id = 6;\n",
       "                var nbb_unformatted_code = \"top_5_words = get_top_five_naive_bayes_words(naive_bayes_model, dictionary)\\n\\nprint(\\\"The top 5 indicative words for Naive Bayes are: \\\", top_5_words)\\n\\nwrite_json(\\\"spam_top_indicative_words\\\", top_5_words)\";\n",
       "                var nbb_formatted_code = \"top_5_words = get_top_five_naive_bayes_words(naive_bayes_model, dictionary)\\n\\nprint(\\\"The top 5 indicative words for Naive Bayes are: \\\", top_5_words)\\n\\nwrite_json(\\\"spam_top_indicative_words\\\", top_5_words)\";\n",
       "                var nbb_cells = Jupyter.notebook.get_cells();\n",
       "                for (var i = 0; i < nbb_cells.length; ++i) {\n",
       "                    if (nbb_cells[i].input_prompt_number == nbb_cell_id) {\n",
       "                        if (nbb_cells[i].get_text() == nbb_unformatted_code) {\n",
       "                             nbb_cells[i].set_text(nbb_formatted_code);\n",
       "                        }\n",
       "                        break;\n",
       "                    }\n",
       "                }\n",
       "            }, 500);\n",
       "            "
      ],
      "text/plain": [
       "<IPython.core.display.Javascript object>"
      ]
     },
     "metadata": {},
     "output_type": "display_data"
    }
   ],
   "source": [
    "top_5_words = get_top_five_naive_bayes_words(naive_bayes_model, dictionary)\n",
    "\n",
    "print(\"The top 5 indicative words for Naive Bayes are: \", top_5_words)\n",
    "\n",
    "write_json(\"spam_top_indicative_words\", top_5_words)"
   ]
  },
  {
   "cell_type": "code",
   "execution_count": 7,
   "metadata": {
    "ExecuteTime": {
     "end_time": "2020-11-08T09:28:38.619771Z",
     "start_time": "2020-11-08T09:28:01.335683Z"
    }
   },
   "outputs": [
    {
     "name": "stdout",
     "output_type": "stream",
     "text": [
      "The optimal SVM radius was 0.1\n"
     ]
    },
    {
     "data": {
      "application/javascript": [
       "\n",
       "            setTimeout(function() {\n",
       "                var nbb_cell_id = 7;\n",
       "                var nbb_unformatted_code = \"optimal_radius = compute_best_svm_radius(\\n    train_matrix, train_labels, val_matrix, val_labels, [0.01, 0.1, 1, 10]\\n)\\n\\nwrite_json(\\\"spam_optimal_radius\\\", optimal_radius)\\n\\nprint(\\\"The optimal SVM radius was {}\\\".format(optimal_radius))\";\n",
       "                var nbb_formatted_code = \"optimal_radius = compute_best_svm_radius(\\n    train_matrix, train_labels, val_matrix, val_labels, [0.01, 0.1, 1, 10]\\n)\\n\\nwrite_json(\\\"spam_optimal_radius\\\", optimal_radius)\\n\\nprint(\\\"The optimal SVM radius was {}\\\".format(optimal_radius))\";\n",
       "                var nbb_cells = Jupyter.notebook.get_cells();\n",
       "                for (var i = 0; i < nbb_cells.length; ++i) {\n",
       "                    if (nbb_cells[i].input_prompt_number == nbb_cell_id) {\n",
       "                        if (nbb_cells[i].get_text() == nbb_unformatted_code) {\n",
       "                             nbb_cells[i].set_text(nbb_formatted_code);\n",
       "                        }\n",
       "                        break;\n",
       "                    }\n",
       "                }\n",
       "            }, 500);\n",
       "            "
      ],
      "text/plain": [
       "<IPython.core.display.Javascript object>"
      ]
     },
     "metadata": {},
     "output_type": "display_data"
    }
   ],
   "source": [
    "optimal_radius = compute_best_svm_radius(\n",
    "    train_matrix, train_labels, val_matrix, val_labels, [0.01, 0.1, 1, 10]\n",
    ")\n",
    "\n",
    "write_json(\"spam_optimal_radius\", optimal_radius)\n",
    "\n",
    "print(\"The optimal SVM radius was {}\".format(optimal_radius))"
   ]
  },
  {
   "cell_type": "code",
   "execution_count": 8,
   "metadata": {
    "ExecuteTime": {
     "end_time": "2020-11-08T09:28:48.886193Z",
     "start_time": "2020-11-08T09:28:38.623912Z"
    }
   },
   "outputs": [
    {
     "name": "stdout",
     "output_type": "stream",
     "text": [
      "The SVM model had an accuracy of 0.9695340501792115 on the testing set\n"
     ]
    },
    {
     "data": {
      "application/javascript": [
       "\n",
       "            setTimeout(function() {\n",
       "                var nbb_cell_id = 8;\n",
       "                var nbb_unformatted_code = \"svm_predictions = train_and_predict_svm(\\n    train_matrix, train_labels, test_matrix, optimal_radius\\n)\\n\\nsvm_accuracy = np.mean(svm_predictions == test_labels)\\n\\nprint(\\\"The SVM model had an accuracy of {} on the testing set\\\".format(svm_accuracy))\";\n",
       "                var nbb_formatted_code = \"svm_predictions = train_and_predict_svm(\\n    train_matrix, train_labels, test_matrix, optimal_radius\\n)\\n\\nsvm_accuracy = np.mean(svm_predictions == test_labels)\\n\\nprint(\\\"The SVM model had an accuracy of {} on the testing set\\\".format(svm_accuracy))\";\n",
       "                var nbb_cells = Jupyter.notebook.get_cells();\n",
       "                for (var i = 0; i < nbb_cells.length; ++i) {\n",
       "                    if (nbb_cells[i].input_prompt_number == nbb_cell_id) {\n",
       "                        if (nbb_cells[i].get_text() == nbb_unformatted_code) {\n",
       "                             nbb_cells[i].set_text(nbb_formatted_code);\n",
       "                        }\n",
       "                        break;\n",
       "                    }\n",
       "                }\n",
       "            }, 500);\n",
       "            "
      ],
      "text/plain": [
       "<IPython.core.display.Javascript object>"
      ]
     },
     "metadata": {},
     "output_type": "display_data"
    }
   ],
   "source": [
    "svm_predictions = train_and_predict_svm(\n",
    "    train_matrix, train_labels, test_matrix, optimal_radius\n",
    ")\n",
    "\n",
    "svm_accuracy = np.mean(svm_predictions == test_labels)\n",
    "\n",
    "print(\"The SVM model had an accuracy of {} on the testing set\".format(svm_accuracy))"
   ]
  },
  {
   "cell_type": "markdown",
   "metadata": {},
   "source": [
    "# Question 3"
   ]
  },
  {
   "cell_type": "markdown",
   "metadata": {},
   "source": [
    "![3a](answers/3a.png)"
   ]
  },
  {
   "cell_type": "markdown",
   "metadata": {},
   "source": [
    "![3b](answers/3b.png)"
   ]
  },
  {
   "cell_type": "markdown",
   "metadata": {},
   "source": [
    "![3c](answers/3c.png)"
   ]
  },
  {
   "cell_type": "markdown",
   "metadata": {},
   "source": [
    "![3d](answers/3d.png)"
   ]
  },
  {
   "cell_type": "markdown",
   "metadata": {},
   "source": [
    "![3e](answers/3e.png)\n",
    "\n",
    "- https://stats.stackexchange.com/questions/48509/proof-of-closeness-of-kernel-functions-under-pointwise-product/50289\n",
    "- https://www.quora.com/How-do-I-formally-proof-the-product-of-two-kernels-is-a-kernel-If-K1-x-x1-and-K2-x-x2-are-both-kernel-function-then-K1-x-x1-K2-x-x2-is-also-a-kernel"
   ]
  },
  {
   "cell_type": "markdown",
   "metadata": {},
   "source": [
    "![3f](answers/3f.png)"
   ]
  },
  {
   "cell_type": "markdown",
   "metadata": {},
   "source": [
    "![3g](answers/3g.png)"
   ]
  },
  {
   "cell_type": "markdown",
   "metadata": {},
   "source": [
    "![3h](answers/3h.png)"
   ]
  },
  {
   "cell_type": "markdown",
   "metadata": {},
   "source": [
    "# Question 4\n",
    "\n",
    "## 4.a\n",
    "\n",
    "### i\n",
    "\n",
    "Since computing $\\phi(x)$ and the linear combination of $\\phi(x)$ could be computationally expensive, kernel trick is introduced. This basically means that we assume\n",
    "\n",
    "$$ \\theta = \\sum_{i=1}^n \\beta_i \\phi(x^i) $$\n",
    "\n",
    "and when doing the inference, we simply need to compute the linear combination of $ K(x_i, x_j) $ for new sample $x_j$ where $K$ is a computationally tractable kernel function.\n",
    "\n",
    "Therefore, we need to store arrays of both $ \\beta $ and $ X $ that have been used to update the $\\theta$.\n",
    "\n",
    "### ii\n",
    "\n",
    "\\begin{align*}\n",
    "    {\\theta^{(i)}}^T \\phi(x^{(i+1)}) &= \\sum_{j=1}^i \\beta_j \\phi(x^j) \\phi(x^{(i+1)}) \\\\\n",
    "    &= \\sum_{j=1}^i \\beta_j K(x^j, x^{(i+1)})\n",
    "\\end{align*}\n",
    "\n",
    "### iii\n",
    "\n",
    "New update rule, for $ i = 0, \\dots, n-1$:\n",
    "\n",
    "$$ \\beta^{(i+1)} := \\beta^{(i)} + \\alpha \\Big(y^{(i)} - \\sum_{j=1}^i \\beta_j K(x^j, x^{(i+1)}) \\Big)$$"
   ]
  },
  {
   "cell_type": "code",
   "execution_count": 9,
   "metadata": {
    "ExecuteTime": {
     "end_time": "2020-11-08T09:28:48.914467Z",
     "start_time": "2020-11-08T09:28:48.889111Z"
    }
   },
   "outputs": [
    {
     "data": {
      "application/javascript": [
       "\n",
       "            setTimeout(function() {\n",
       "                var nbb_cell_id = 9;\n",
       "                var nbb_unformatted_code = \"from src.perceptron.perceptron import *\";\n",
       "                var nbb_formatted_code = \"from src.perceptron.perceptron import *\";\n",
       "                var nbb_cells = Jupyter.notebook.get_cells();\n",
       "                for (var i = 0; i < nbb_cells.length; ++i) {\n",
       "                    if (nbb_cells[i].input_prompt_number == nbb_cell_id) {\n",
       "                        if (nbb_cells[i].get_text() == nbb_unformatted_code) {\n",
       "                             nbb_cells[i].set_text(nbb_formatted_code);\n",
       "                        }\n",
       "                        break;\n",
       "                    }\n",
       "                }\n",
       "            }, 500);\n",
       "            "
      ],
      "text/plain": [
       "<IPython.core.display.Javascript object>"
      ]
     },
     "metadata": {},
     "output_type": "display_data"
    }
   ],
   "source": [
    "from src.perceptron.perceptron import *"
   ]
  },
  {
   "cell_type": "code",
   "execution_count": 10,
   "metadata": {
    "ExecuteTime": {
     "end_time": "2020-11-08T09:28:49.449671Z",
     "start_time": "2020-11-08T09:28:48.917000Z"
    }
   },
   "outputs": [
    {
     "name": "stdout",
     "output_type": "stream",
     "text": [
      "test accuracy: 0.525\n"
     ]
    },
    {
     "data": {
      "image/png": "[encoded data removed]",
      "text/plain": [
       "<Figure size 864x576 with 1 Axes>"
      ]
     },
     "metadata": {
      "needs_background": "light"
     },
     "output_type": "display_data"
    },
    {
     "data": {
      "application/javascript": [
       "\n",
       "            setTimeout(function() {\n",
       "                var nbb_cell_id = 10;\n",
       "                var nbb_unformatted_code = \"train_perceptron(\\\"dot\\\", dot_kernel, 0.5)\";\n",
       "                var nbb_formatted_code = \"train_perceptron(\\\"dot\\\", dot_kernel, 0.5)\";\n",
       "                var nbb_cells = Jupyter.notebook.get_cells();\n",
       "                for (var i = 0; i < nbb_cells.length; ++i) {\n",
       "                    if (nbb_cells[i].input_prompt_number == nbb_cell_id) {\n",
       "                        if (nbb_cells[i].get_text() == nbb_unformatted_code) {\n",
       "                             nbb_cells[i].set_text(nbb_formatted_code);\n",
       "                        }\n",
       "                        break;\n",
       "                    }\n",
       "                }\n",
       "            }, 500);\n",
       "            "
      ],
      "text/plain": [
       "<IPython.core.display.Javascript object>"
      ]
     },
     "metadata": {},
     "output_type": "display_data"
    }
   ],
   "source": [
    "train_perceptron(\"dot\", dot_kernel, 0.5)\n"
   ]
  },
  {
   "cell_type": "code",
   "execution_count": 11,
   "metadata": {
    "ExecuteTime": {
     "end_time": "2020-11-08T09:28:49.830222Z",
     "start_time": "2020-11-08T09:28:49.451577Z"
    }
   },
   "outputs": [
    {
     "name": "stdout",
     "output_type": "stream",
     "text": [
      "test accuracy: 0.92\n"
     ]
    },
    {
     "data": {
      "image/png": "[encoded data removed]",
      "text/plain": [
       "<Figure size 864x576 with 1 Axes>"
      ]
     },
     "metadata": {
      "needs_background": "light"
     },
     "output_type": "display_data"
    },
    {
     "data": {
      "application/javascript": [
       "\n",
       "            setTimeout(function() {\n",
       "                var nbb_cell_id = 11;\n",
       "                var nbb_unformatted_code = \"train_perceptron(\\\"rbf\\\", rbf_kernel, 0.5)\";\n",
       "                var nbb_formatted_code = \"train_perceptron(\\\"rbf\\\", rbf_kernel, 0.5)\";\n",
       "                var nbb_cells = Jupyter.notebook.get_cells();\n",
       "                for (var i = 0; i < nbb_cells.length; ++i) {\n",
       "                    if (nbb_cells[i].input_prompt_number == nbb_cell_id) {\n",
       "                        if (nbb_cells[i].get_text() == nbb_unformatted_code) {\n",
       "                             nbb_cells[i].set_text(nbb_formatted_code);\n",
       "                        }\n",
       "                        break;\n",
       "                    }\n",
       "                }\n",
       "            }, 500);\n",
       "            "
      ],
      "text/plain": [
       "<IPython.core.display.Javascript object>"
      ]
     },
     "metadata": {},
     "output_type": "display_data"
    }
   ],
   "source": [
    "train_perceptron(\"rbf\", rbf_kernel, 0.5)\n"
   ]
  },
  {
   "cell_type": "code",
   "execution_count": 12,
   "metadata": {
    "ExecuteTime": {
     "end_time": "2020-11-08T09:28:52.240565Z",
     "start_time": "2020-11-08T09:28:49.832095Z"
    },
    "scrolled": true
   },
   "outputs": [
    {
     "name": "stdout",
     "output_type": "stream",
     "text": [
      "test accuracy: 0.48\n"
     ]
    },
    {
     "data": {
      "image/png": "[encoded data removed]",
      "text/plain": [
       "<Figure size 864x576 with 1 Axes>"
      ]
     },
     "metadata": {
      "needs_background": "light"
     },
     "output_type": "display_data"
    },
    {
     "data": {
      "application/javascript": [
       "\n",
       "            setTimeout(function() {\n",
       "                var nbb_cell_id = 12;\n",
       "                var nbb_unformatted_code = \"train_perceptron(\\\"non_psd\\\", non_psd_kernel, 0.5)\";\n",
       "                var nbb_formatted_code = \"train_perceptron(\\\"non_psd\\\", non_psd_kernel, 0.5)\";\n",
       "                var nbb_cells = Jupyter.notebook.get_cells();\n",
       "                for (var i = 0; i < nbb_cells.length; ++i) {\n",
       "                    if (nbb_cells[i].input_prompt_number == nbb_cell_id) {\n",
       "                        if (nbb_cells[i].get_text() == nbb_unformatted_code) {\n",
       "                             nbb_cells[i].set_text(nbb_formatted_code);\n",
       "                        }\n",
       "                        break;\n",
       "                    }\n",
       "                }\n",
       "            }, 500);\n",
       "            "
      ],
      "text/plain": [
       "<IPython.core.display.Javascript object>"
      ]
     },
     "metadata": {},
     "output_type": "display_data"
    }
   ],
   "source": [
    "train_perceptron(\"non_psd\", non_psd_kernel, 0.5)\n"
   ]
  },
  {
   "cell_type": "markdown",
   "metadata": {},
   "source": [
    "## 4.c\n",
    "\n",
    "1. Dot kernel fails because the data is non-linear, therefore, the decision boundary over the original feature will not perform well.\n",
    "2. RBF kernel performs much better because the kernel transforms the original feature to a new feature space such that the data could be separated using a linear decision boundary.\n",
    "3. The selected non-PSD kernel fails because all the new examples are not close enough to any datapoints used for training. Therefore, the dot products all result in zeros which simply give positive for every examples."
   ]
  },
  {
   "cell_type": "markdown",
   "metadata": {},
   "source": [
    "# Question 5 "
   ]
  },
  {
   "cell_type": "markdown",
   "metadata": {},
   "source": [
    "First things first, note that\n",
    "\n",
    "$$ L^{(i)} = \\text{CE}(y^{(i)}, \\hat{y}^{(i)}) = - \\sum_{k=1}^K y_k \\log{\\hat{y_k}} = -\\log{\\hat{y_l}}$$\n",
    "\n",
    "where $\\hat{y_l}$ is the prediction for the ground-truth class. From here on, we will assume every derivation is particular to example $ (i) $ for readability.\n",
    "\n",
    "Taking derivative of $ L^{(i)} $ and applying chain rules\n",
    "\n",
    "\\begin{align}\n",
    "    \\nabla_{z} L &= - \\frac{1}{y_l} \\nabla_{z} y_l\n",
    "\\end{align}\n",
    "\n",
    "Also note that, \n",
    "\n",
    "$$ \\hat{y_l} = \\frac{\\exp{(z_l)}}{\\sum_{j=1}^K\\exp{(z_j)}}  $$\n",
    "\n",
    "Therefore,\n",
    "\n",
    "\\begin{align}\n",
    "    \\frac{\\partial \\hat{y_l} }{\\partial z_j} &= \\hat{y_l}(1 - \\hat{y_l}), &\\quad l = j \\\\\n",
    "    \\frac{\\partial \\hat{y_l} }{\\partial z_j} &= -\\hat{y_l}\\hat{y_j}, &\\quad l \\neq j\n",
    "\\end{align}\n",
    "\n",
    "Substituting the results from the last equation, we get\n",
    "\n",
    "\\begin{align}\n",
    "    \\frac{\\partial L}{\\partial z_j} &= \\hat{y_l} - 1 & \\quad l = j\\\\\n",
    "    \\frac{\\partial L}{\\partial z_j} &= \\hat{y_j} & \\quad l \\neq j\n",
    "\\end{align}\n",
    "\n",
    "This is equivalent to saying that\n",
    "\n",
    "$$ \\nabla_z \\text{CE}(y, \\hat{y}) = \\hat{y} - y $$"
   ]
  },
  {
   "cell_type": "code",
   "execution_count": 13,
   "metadata": {
    "ExecuteTime": {
     "end_time": "2020-11-08T09:28:52.257428Z",
     "start_time": "2020-11-08T09:28:52.242503Z"
    }
   },
   "outputs": [
    {
     "data": {
      "application/javascript": [
       "\n",
       "            setTimeout(function() {\n",
       "                var nbb_cell_id = 13;\n",
       "                var nbb_unformatted_code = \"from src.mnist.nn import *\";\n",
       "                var nbb_formatted_code = \"from src.mnist.nn import *\";\n",
       "                var nbb_cells = Jupyter.notebook.get_cells();\n",
       "                for (var i = 0; i < nbb_cells.length; ++i) {\n",
       "                    if (nbb_cells[i].input_prompt_number == nbb_cell_id) {\n",
       "                        if (nbb_cells[i].get_text() == nbb_unformatted_code) {\n",
       "                             nbb_cells[i].set_text(nbb_formatted_code);\n",
       "                        }\n",
       "                        break;\n",
       "                    }\n",
       "                }\n",
       "            }, 500);\n",
       "            "
      ],
      "text/plain": [
       "<IPython.core.display.Javascript object>"
      ]
     },
     "metadata": {},
     "output_type": "display_data"
    }
   ],
   "source": [
    "from src.mnist.nn import *"
   ]
  },
  {
   "cell_type": "code",
   "execution_count": 14,
   "metadata": {
    "ExecuteTime": {
     "end_time": "2020-11-08T09:28:52.294373Z",
     "start_time": "2020-11-08T09:28:52.259261Z"
    }
   },
   "outputs": [
    {
     "data": {
      "application/javascript": [
       "\n",
       "            setTimeout(function() {\n",
       "                var nbb_cell_id = 14;\n",
       "                var nbb_unformatted_code = \"def eval_numerical_gradient(f, x, verbose=False, h=0.00001):\\n    \\\"\\\"\\\"\\n    a naive implementation of numerical gradient of f at x\\n    - f should be a function that takes a single argument\\n    - x is the point (numpy array) to evaluate the gradient at\\n    \\\"\\\"\\\"\\n\\n    fx = f(x)  # evaluate function value at original point\\n    grad = np.zeros_like(x)\\n    # iterate over all indexes in x\\n    it = np.nditer(x, flags=[\\\"multi_index\\\"], op_flags=[\\\"readwrite\\\"])\\n    while not it.finished:\\n\\n        # evaluate function at x+h\\n        ix = it.multi_index\\n        oldval = x[ix]\\n        x[ix] = oldval + h  # increment by h\\n        fxph = f(x)  # evalute f(x + h)\\n        x[ix] = oldval - h\\n        fxmh = f(x)  # evaluate f(x - h)\\n        x[ix] = oldval  # restore\\n\\n        # compute the partial derivative with centered formula\\n        grad[ix] = (fxph - fxmh) / (2 * h)  # the slope\\n        if verbose:\\n            print(ix, grad[ix])\\n        it.iternext()  # step to next dimension\\n\\n    return grad\\n\\n\\ndef rel_error(x, y):\\n    \\\"\\\"\\\" returns relative error \\\"\\\"\\\"\\n    return np.max(np.abs(x - y) / (np.maximum(1e-8, np.abs(x) + np.abs(y))))\\n\\ndef forward_prop_w(X, y, w, name):\\n    weights = params.copy()\\n    weights[name] = w\\n    return forward_prop(X, y, weights)\";\n",
       "                var nbb_formatted_code = \"def eval_numerical_gradient(f, x, verbose=False, h=0.00001):\\n    \\\"\\\"\\\"\\n    a naive implementation of numerical gradient of f at x\\n    - f should be a function that takes a single argument\\n    - x is the point (numpy array) to evaluate the gradient at\\n    \\\"\\\"\\\"\\n\\n    fx = f(x)  # evaluate function value at original point\\n    grad = np.zeros_like(x)\\n    # iterate over all indexes in x\\n    it = np.nditer(x, flags=[\\\"multi_index\\\"], op_flags=[\\\"readwrite\\\"])\\n    while not it.finished:\\n\\n        # evaluate function at x+h\\n        ix = it.multi_index\\n        oldval = x[ix]\\n        x[ix] = oldval + h  # increment by h\\n        fxph = f(x)  # evalute f(x + h)\\n        x[ix] = oldval - h\\n        fxmh = f(x)  # evaluate f(x - h)\\n        x[ix] = oldval  # restore\\n\\n        # compute the partial derivative with centered formula\\n        grad[ix] = (fxph - fxmh) / (2 * h)  # the slope\\n        if verbose:\\n            print(ix, grad[ix])\\n        it.iternext()  # step to next dimension\\n\\n    return grad\\n\\n\\ndef rel_error(x, y):\\n    \\\"\\\"\\\" returns relative error \\\"\\\"\\\"\\n    return np.max(np.abs(x - y) / (np.maximum(1e-8, np.abs(x) + np.abs(y))))\\n\\n\\ndef forward_prop_w(X, y, w, name):\\n    weights = params.copy()\\n    weights[name] = w\\n    return forward_prop(X, y, weights)\";\n",
       "                var nbb_cells = Jupyter.notebook.get_cells();\n",
       "                for (var i = 0; i < nbb_cells.length; ++i) {\n",
       "                    if (nbb_cells[i].input_prompt_number == nbb_cell_id) {\n",
       "                        if (nbb_cells[i].get_text() == nbb_unformatted_code) {\n",
       "                             nbb_cells[i].set_text(nbb_formatted_code);\n",
       "                        }\n",
       "                        break;\n",
       "                    }\n",
       "                }\n",
       "            }, 500);\n",
       "            "
      ],
      "text/plain": [
       "<IPython.core.display.Javascript object>"
      ]
     },
     "metadata": {},
     "output_type": "display_data"
    }
   ],
   "source": [
    "def eval_numerical_gradient(f, x, verbose=False, h=0.00001):\n",
    "    \"\"\"\n",
    "    Taken from cs231n assignments.\n",
    "    \n",
    "    a naive implementation of numerical gradient of f at x\n",
    "    - f should be a function that takes a single argument\n",
    "    - x is the point (numpy array) to evaluate the gradient at\n",
    "    \"\"\"\n",
    "\n",
    "    fx = f(x)  # evaluate function value at original point\n",
    "    grad = np.zeros_like(x)\n",
    "    # iterate over all indexes in x\n",
    "    it = np.nditer(x, flags=[\"multi_index\"], op_flags=[\"readwrite\"])\n",
    "    while not it.finished:\n",
    "\n",
    "        # evaluate function at x+h\n",
    "        ix = it.multi_index\n",
    "        oldval = x[ix]\n",
    "        x[ix] = oldval + h  # increment by h\n",
    "        fxph = f(x)  # evalute f(x + h)\n",
    "        x[ix] = oldval - h\n",
    "        fxmh = f(x)  # evaluate f(x - h)\n",
    "        x[ix] = oldval  # restore\n",
    "\n",
    "        # compute the partial derivative with centered formula\n",
    "        grad[ix] = (fxph - fxmh) / (2 * h)  # the slope\n",
    "        if verbose:\n",
    "            print(ix, grad[ix])\n",
    "        it.iternext()  # step to next dimension\n",
    "\n",
    "    return grad\n",
    "\n",
    "\n",
    "def rel_error(x, y):\n",
    "    \"\"\" returns relative error \"\"\"\n",
    "    return np.max(np.abs(x - y) / (np.maximum(1e-8, np.abs(x) + np.abs(y))))\n",
    "\n",
    "def forward_prop_w(X, y, w, name):\n",
    "    weights = params.copy()\n",
    "    weights[name] = w\n",
    "    return forward_prop(X, y, weights)\n"
   ]
  },
  {
   "cell_type": "code",
   "execution_count": 15,
   "metadata": {
    "ExecuteTime": {
     "end_time": "2020-11-08T09:28:52.374918Z",
     "start_time": "2020-11-08T09:28:52.295951Z"
    },
    "scrolled": false
   },
   "outputs": [
    {
     "name": "stdout",
     "output_type": "stream",
     "text": [
      "dW2 error: 2.1416112986937787e-08\n",
      "db2 error: 2.7996449986690312e-09\n",
      "dW1 error: 4.789438274751909e-07\n",
      "db1 error: 3.2567964537702927e-08\n"
     ]
    },
    {
     "data": {
      "application/javascript": [
       "\n",
       "            setTimeout(function() {\n",
       "                var nbb_cell_id = 15;\n",
       "                var nbb_unformatted_code = \"x = np.random.randn(3, 5)\\nlabels = np.random.randn(3, 10).argmax(axis=1)\\ny = np.zeros((3, 10))\\ny[np.arange(y.shape[0]), labels] = 1.0\\n\\nparams = get_initial_params(x.shape[1], 16, y.shape[1])\\n\\ndW2 = eval_numerical_gradient(lambda w: forward_prop_w(x, y, w, \\\"W2\\\")[2], params[\\\"W2\\\"])\\ndb2 = eval_numerical_gradient(lambda w: forward_prop_w(x, y, w, \\\"b2\\\")[2], params[\\\"b2\\\"])\\ndW1 = eval_numerical_gradient(lambda w: forward_prop_w(x, y, w, \\\"W1\\\")[2], params[\\\"W1\\\"])\\ndb1 = eval_numerical_gradient(lambda w: forward_prop_w(x, y, w, \\\"b1\\\")[2], params[\\\"b1\\\"])\\n\\ngrads = backward_prop(x, y, params, forward_prop)\\n\\nprint(\\\"dW2 error:\\\", rel_error(dW2, grads[\\\"W2\\\"]))\\nprint(\\\"db2 error:\\\", rel_error(db2, grads[\\\"b2\\\"]))\\nprint(\\\"dW1 error:\\\", rel_error(dW1, grads[\\\"W1\\\"]))\\nprint(\\\"db1 error:\\\", rel_error(db1, grads[\\\"b1\\\"]))\";\n",
       "                var nbb_formatted_code = \"x = np.random.randn(3, 5)\\nlabels = np.random.randn(3, 10).argmax(axis=1)\\ny = np.zeros((3, 10))\\ny[np.arange(y.shape[0]), labels] = 1.0\\n\\nparams = get_initial_params(x.shape[1], 16, y.shape[1])\\n\\ndW2 = eval_numerical_gradient(lambda w: forward_prop_w(x, y, w, \\\"W2\\\")[2], params[\\\"W2\\\"])\\ndb2 = eval_numerical_gradient(lambda w: forward_prop_w(x, y, w, \\\"b2\\\")[2], params[\\\"b2\\\"])\\ndW1 = eval_numerical_gradient(lambda w: forward_prop_w(x, y, w, \\\"W1\\\")[2], params[\\\"W1\\\"])\\ndb1 = eval_numerical_gradient(lambda w: forward_prop_w(x, y, w, \\\"b1\\\")[2], params[\\\"b1\\\"])\\n\\ngrads = backward_prop(x, y, params, forward_prop)\\n\\nprint(\\\"dW2 error:\\\", rel_error(dW2, grads[\\\"W2\\\"]))\\nprint(\\\"db2 error:\\\", rel_error(db2, grads[\\\"b2\\\"]))\\nprint(\\\"dW1 error:\\\", rel_error(dW1, grads[\\\"W1\\\"]))\\nprint(\\\"db1 error:\\\", rel_error(db1, grads[\\\"b1\\\"]))\";\n",
       "                var nbb_cells = Jupyter.notebook.get_cells();\n",
       "                for (var i = 0; i < nbb_cells.length; ++i) {\n",
       "                    if (nbb_cells[i].input_prompt_number == nbb_cell_id) {\n",
       "                        if (nbb_cells[i].get_text() == nbb_unformatted_code) {\n",
       "                             nbb_cells[i].set_text(nbb_formatted_code);\n",
       "                        }\n",
       "                        break;\n",
       "                    }\n",
       "                }\n",
       "            }, 500);\n",
       "            "
      ],
      "text/plain": [
       "<IPython.core.display.Javascript object>"
      ]
     },
     "metadata": {},
     "output_type": "display_data"
    }
   ],
   "source": [
    "x = np.random.randn(3, 5)\n",
    "labels = np.random.randn(3, 10).argmax(axis=1)\n",
    "y = np.zeros((3, 10))\n",
    "y[np.arange(y.shape[0]), labels] = 1.0\n",
    "\n",
    "params = get_initial_params(x.shape[1], 16, y.shape[1])\n",
    "\n",
    "dW2 = eval_numerical_gradient(lambda w: forward_prop_w(x, y, w, \"W2\")[2], params[\"W2\"])\n",
    "db2 = eval_numerical_gradient(lambda w: forward_prop_w(x, y, w, \"b2\")[2], params[\"b2\"])\n",
    "dW1 = eval_numerical_gradient(lambda w: forward_prop_w(x, y, w, \"W1\")[2], params[\"W1\"])\n",
    "db1 = eval_numerical_gradient(lambda w: forward_prop_w(x, y, w, \"b1\")[2], params[\"b1\"])\n",
    "\n",
    "grads = backward_prop(x, y, params, forward_prop)\n",
    "\n",
    "print(\"dW2 error:\", rel_error(dW2, grads[\"W2\"]))\n",
    "print(\"db2 error:\", rel_error(db2, grads[\"b2\"]))\n",
    "print(\"dW1 error:\", rel_error(dW1, grads[\"W1\"]))\n",
    "print(\"db1 error:\", rel_error(db1, grads[\"b1\"]))"
   ]
  },
  {
   "cell_type": "code",
   "execution_count": 16,
   "metadata": {
    "ExecuteTime": {
     "end_time": "2020-11-08T09:29:20.552437Z",
     "start_time": "2020-11-08T09:28:52.376761Z"
    }
   },
   "outputs": [
    {
     "data": {
      "application/javascript": [
       "\n",
       "            setTimeout(function() {\n",
       "                var nbb_cell_id = 16;\n",
       "                var nbb_unformatted_code = \"np.random.seed(100)\\ntrain_data, train_labels = read_data(\\n    \\\"src/mnist/images_train.csv\\\", \\\"src/mnist/labels_train.csv\\\"\\n)\\ntrain_labels = one_hot_labels(train_labels)\\np = np.random.permutation(60000)\\ntrain_data = train_data[p, :]\\ntrain_labels = train_labels[p, :]\\n\\ndev_data = train_data[0:10000, :]\\ndev_labels = train_labels[0:10000, :]\\ntrain_data = train_data[10000:, :]\\ntrain_labels = train_labels[10000:, :]\\n\\nmean = np.mean(train_data)\\nstd = np.std(train_data)\\ntrain_data = (train_data - mean) / std\\ndev_data = (dev_data - mean) / std\\n\\ntest_data, test_labels = read_data(\\n    \\\"src/mnist/images_test.csv\\\", \\\"src/mnist/labels_test.csv\\\"\\n)\\ntest_labels = one_hot_labels(test_labels)\\ntest_data = (test_data - mean) / std\\n\\nall_data = {\\\"train\\\": train_data, \\\"dev\\\": dev_data, \\\"test\\\": test_data}\\n\\nall_labels = {\\n    \\\"train\\\": train_labels,\\n    \\\"dev\\\": dev_labels,\\n    \\\"test\\\": test_labels,\\n}\";\n",
       "                var nbb_formatted_code = \"np.random.seed(100)\\ntrain_data, train_labels = read_data(\\n    \\\"src/mnist/images_train.csv\\\", \\\"src/mnist/labels_train.csv\\\"\\n)\\ntrain_labels = one_hot_labels(train_labels)\\np = np.random.permutation(60000)\\ntrain_data = train_data[p, :]\\ntrain_labels = train_labels[p, :]\\n\\ndev_data = train_data[0:10000, :]\\ndev_labels = train_labels[0:10000, :]\\ntrain_data = train_data[10000:, :]\\ntrain_labels = train_labels[10000:, :]\\n\\nmean = np.mean(train_data)\\nstd = np.std(train_data)\\ntrain_data = (train_data - mean) / std\\ndev_data = (dev_data - mean) / std\\n\\ntest_data, test_labels = read_data(\\n    \\\"src/mnist/images_test.csv\\\", \\\"src/mnist/labels_test.csv\\\"\\n)\\ntest_labels = one_hot_labels(test_labels)\\ntest_data = (test_data - mean) / std\\n\\nall_data = {\\\"train\\\": train_data, \\\"dev\\\": dev_data, \\\"test\\\": test_data}\\n\\nall_labels = {\\n    \\\"train\\\": train_labels,\\n    \\\"dev\\\": dev_labels,\\n    \\\"test\\\": test_labels,\\n}\";\n",
       "                var nbb_cells = Jupyter.notebook.get_cells();\n",
       "                for (var i = 0; i < nbb_cells.length; ++i) {\n",
       "                    if (nbb_cells[i].input_prompt_number == nbb_cell_id) {\n",
       "                        if (nbb_cells[i].get_text() == nbb_unformatted_code) {\n",
       "                             nbb_cells[i].set_text(nbb_formatted_code);\n",
       "                        }\n",
       "                        break;\n",
       "                    }\n",
       "                }\n",
       "            }, 500);\n",
       "            "
      ],
      "text/plain": [
       "<IPython.core.display.Javascript object>"
      ]
     },
     "metadata": {},
     "output_type": "display_data"
    }
   ],
   "source": [
    "np.random.seed(100)\n",
    "train_data, train_labels = read_data(\n",
    "    \"src/mnist/images_train.csv\", \"src/mnist/labels_train.csv\"\n",
    ")\n",
    "train_labels = one_hot_labels(train_labels)\n",
    "p = np.random.permutation(60000)\n",
    "train_data = train_data[p, :]\n",
    "train_labels = train_labels[p, :]\n",
    "\n",
    "dev_data = train_data[0:10000, :]\n",
    "dev_labels = train_labels[0:10000, :]\n",
    "train_data = train_data[10000:, :]\n",
    "train_labels = train_labels[10000:, :]\n",
    "\n",
    "mean = np.mean(train_data)\n",
    "std = np.std(train_data)\n",
    "train_data = (train_data - mean) / std\n",
    "dev_data = (dev_data - mean) / std\n",
    "\n",
    "test_data, test_labels = read_data(\n",
    "    \"src/mnist/images_test.csv\", \"src/mnist/labels_test.csv\"\n",
    ")\n",
    "test_labels = one_hot_labels(test_labels)\n",
    "test_data = (test_data - mean) / std\n",
    "\n",
    "all_data = {\"train\": train_data, \"dev\": dev_data, \"test\": test_data}\n",
    "\n",
    "all_labels = {\n",
    "    \"train\": train_labels,\n",
    "    \"dev\": dev_labels,\n",
    "    \"test\": test_labels,\n",
    "}"
   ]
  },
  {
   "cell_type": "code",
   "execution_count": 17,
   "metadata": {
    "ExecuteTime": {
     "end_time": "2020-11-08T09:32:23.855711Z",
     "start_time": "2020-11-08T09:29:20.554142Z"
    }
   },
   "outputs": [
    {
     "name": "stdout",
     "output_type": "stream",
     "text": [
      "For model baseline, got accuracy: 0.793400\n",
      "For model regularized, got accuracy: 0.883400\n"
     ]
    },
    {
     "data": {
      "image/png": "[encoded data removed]",
      "text/plain": [
       "<Figure size 432x288 with 2 Axes>"
      ]
     },
     "metadata": {
      "needs_background": "light"
     },
     "output_type": "display_data"
    },
    {
     "data": {
      "image/png": "[encoded data removed]",
      "text/plain": [
       "<Figure size 432x288 with 2 Axes>"
      ]
     },
     "metadata": {
      "needs_background": "light"
     },
     "output_type": "display_data"
    },
    {
     "data": {
      "application/javascript": [
       "\n",
       "            setTimeout(function() {\n",
       "                var nbb_cell_id = 17;\n",
       "                var nbb_unformatted_code = \"num_epochs = 30\\n\\nbaseline_acc = run_train_test(\\n    \\\"baseline\\\", all_data, all_labels, backward_prop, num_epochs, plot\\n)\\n\\nreg_acc = run_train_test(\\n    \\\"regularized\\\",\\n    all_data,\\n    all_labels,\\n    lambda a, b, c, d: backward_prop_regularized(a, b, c, d, reg=0.0001),\\n    num_epochs,\\n    plot,\\n)\";\n",
       "                var nbb_formatted_code = \"num_epochs = 30\\n\\nbaseline_acc = run_train_test(\\n    \\\"baseline\\\", all_data, all_labels, backward_prop, num_epochs, plot\\n)\\n\\nreg_acc = run_train_test(\\n    \\\"regularized\\\",\\n    all_data,\\n    all_labels,\\n    lambda a, b, c, d: backward_prop_regularized(a, b, c, d, reg=0.0001),\\n    num_epochs,\\n    plot,\\n)\";\n",
       "                var nbb_cells = Jupyter.notebook.get_cells();\n",
       "                for (var i = 0; i < nbb_cells.length; ++i) {\n",
       "                    if (nbb_cells[i].input_prompt_number == nbb_cell_id) {\n",
       "                        if (nbb_cells[i].get_text() == nbb_unformatted_code) {\n",
       "                             nbb_cells[i].set_text(nbb_formatted_code);\n",
       "                        }\n",
       "                        break;\n",
       "                    }\n",
       "                }\n",
       "            }, 500);\n",
       "            "
      ],
      "text/plain": [
       "<IPython.core.display.Javascript object>"
      ]
     },
     "metadata": {},
     "output_type": "display_data"
    }
   ],
   "source": [
    "num_epochs = 30\n",
    "\n",
    "baseline_acc = run_train_test(\n",
    "    \"baseline\", all_data, all_labels, backward_prop, num_epochs, plot\n",
    ")\n",
    "\n",
    "reg_acc = run_train_test(\n",
    "    \"regularized\",\n",
    "    all_data,\n",
    "    all_labels,\n",
    "    lambda a, b, c, d: backward_prop_regularized(a, b, c, d, reg=0.0001),\n",
    "    num_epochs,\n",
    "    plot,\n",
    ")"
   ]
  },
  {
   "cell_type": "markdown",
   "metadata": {},
   "source": [
    "As observed from the plots above, the model training accuracy is much higher than dev accuracy without regularization which indicates some degree of overfitting in our model. After adding the regularization, the training and dev accuracy are much closer because it reduces the hypothesis space that we could generate our parameters from."
   ]
  },
  {
   "cell_type": "markdown",
   "metadata": {},
   "source": [
    "# Question 6"
   ]
  },
  {
   "cell_type": "markdown",
   "metadata": {},
   "source": [
    "![6a](answers/6a.png)"
   ]
  },
  {
   "cell_type": "markdown",
   "metadata": {},
   "source": [
    "![6b](answers/6b.png)"
   ]
  },
  {
   "cell_type": "markdown",
   "metadata": {},
   "source": [
    "![6c](answers/6c.png)"
   ]
  },
  {
   "cell_type": "markdown",
   "metadata": {},
   "source": [
    "![6d](answers/6d.png)"
   ]
  }
 ],
 "metadata": {
  "kernelspec": {
   "display_name": "cs229",
   "language": "python",
   "name": "cs229"
  },
  "language_info": {
   "codemirror_mode": {
    "name": "ipython",
    "version": 3
   },
   "file_extension": ".py",
   "mimetype": "text/x-python",
   "name": "python",
   "nbconvert_exporter": "python",
   "pygments_lexer": "ipython3",
   "version": "3.7.9"
  },
  "toc": {
   "base_numbering": 1,
   "nav_menu": {},
   "number_sections": true,
   "sideBar": true,
   "skip_h1_title": false,
   "title_cell": "Table of Contents",
   "title_sidebar": "Contents",
   "toc_cell": false,
   "toc_position": {},
   "toc_section_display": true,
   "toc_window_display": false
  }
 },
 "nbformat": 4,
 "nbformat_minor": 4
}
